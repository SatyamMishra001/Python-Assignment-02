{
 "cells": [
  {
   "cell_type": "markdown",
   "id": "5739f20c-a0ac-4fad-9e09-0f75a8dac3ec",
   "metadata": {},
   "source": [
    "String Based Assignment Problem"
   ]
  },
  {
   "cell_type": "markdown",
   "id": "8ab953bf-ac8b-49b6-b2b0-07eb51bcccac",
   "metadata": {},
   "source": [
    "1. Write a program to reverse a string."
   ]
  },
  {
   "cell_type": "code",
   "execution_count": null,
   "id": "aab2ad4f-12fe-4b60-b17b-33d1838d7953",
   "metadata": {},
   "outputs": [],
   "source": [
    "s = \"Hello world\"\n",
    "s[::-1]"
   ]
  },
  {
   "cell_type": "code",
   "execution_count": null,
   "id": "2077626d-bf1a-4dbc-8f8b-dd1122cde99a",
   "metadata": {},
   "outputs": [],
   "source": [
    "# 2 Check if a string is a palindrome.\n",
    "s = input(\"eneter a string:\")\n",
    "k = s[::-1]\n",
    "if s==k:\n",
    "    print(\"String is palindrome\")\n",
    "else:\n",
    "    print(\"String is non-palindrome\")\n"
   ]
  },
  {
   "cell_type": "code",
   "execution_count": null,
   "id": "a3a816f4-24fa-4c70-9fdb-2c87b16e54d7",
   "metadata": {},
   "outputs": [],
   "source": [
    "# 3. Convert a string to uppercase.\n",
    "s = input(\"eneter a string:\")\n",
    "s.upper()\n"
   ]
  },
  {
   "cell_type": "code",
   "execution_count": null,
   "id": "da963816-89cc-456a-ac48-e2f020d05731",
   "metadata": {},
   "outputs": [],
   "source": [
    "# 4. Convert a string to lowercase.\n",
    "s = input(\"enter a string:\")\n",
    "s.lower()"
   ]
  },
  {
   "cell_type": "code",
   "execution_count": null,
   "id": "435c160f-d3c2-48c8-8d15-8bf7df5901b5",
   "metadata": {},
   "outputs": [],
   "source": [
    "# 5. Count the number of vowels in a string.\n",
    "s = input(\"enter a string:\")\n",
    "s.lower()\n",
    "x=len(s)\n",
    "count, i = 0,0\n",
    "while i<x:\n",
    "    if s[i]=='a' or s[i]=='i' or s[i]=='e' or s[i]=='o' or s[i]=='u':\n",
    "        count = count +1\n",
    "    i+=1\n",
    "print(\"number of vowels in a string are:\", count)\n"
   ]
  },
  {
   "cell_type": "code",
   "execution_count": null,
   "id": "fa75b000-45f3-4dd8-9b67-4b315d0b4819",
   "metadata": {},
   "outputs": [],
   "source": [
    "# 6. Count the number of consonants in a string.\n",
    "s = input(\"enter a string:\")\n",
    "s.lower()\n",
    "x=len(s)\n",
    "count, i = 0,0\n",
    "while i<x:\n",
    "    if s[i]!='a' and  s[i]!='i' and s[i]!='e' and s[i]!='o' and s[i]!='u':\n",
    "        count = count +1\n",
    "    i+=1\n",
    "print(\"number of consonants in a string are:\", count)\n"
   ]
  },
  {
   "cell_type": "code",
   "execution_count": null,
   "id": "e740db8c-739a-4c88-b025-b184bf0ab33a",
   "metadata": {},
   "outputs": [],
   "source": [
    "#7. Remove all whitespaces from a string.\n",
    "s = input(\"enter a string:\")\n",
    "s.replace(\" \",\"\")"
   ]
  },
  {
   "cell_type": "code",
   "execution_count": null,
   "id": "bc6c1705-8b0f-4278-b01a-c0a4d21d1b33",
   "metadata": {},
   "outputs": [],
   "source": [
    "# 8. Find the length of a string without using the `len()` function.\n",
    "s = input(\"enter a string:\")\n",
    "count = 0\n",
    "for i in s:\n",
    "    count +=1\n",
    "print(\"length of a string:\",count) "
   ]
  },
  {
   "cell_type": "code",
   "execution_count": null,
   "id": "bed7e2ad-3705-4960-8f71-2be7c5d3be46",
   "metadata": {},
   "outputs": [],
   "source": [
    "# 9. Check if a string contains a specific word.\n",
    "s = input(\"enter a string:\")\n",
    "x=input(\"enter a Word you want to find:\")\n",
    "s.lower()\n",
    "x=s.find(x)\n",
    "if x==-1:\n",
    "    print(\"it doen't contain a word\")\n",
    "else:\n",
    "    print(\"it contain a word\")\n"
   ]
  },
  {
   "cell_type": "code",
   "execution_count": null,
   "id": "38b909b1-391c-45b1-bfbd-304708784d9f",
   "metadata": {},
   "outputs": [],
   "source": [
    "# 10. Replace a word in a string with another word.\n",
    "s = \"Hello\"\n",
    "s.replace('H',\"Y\")\n"
   ]
  },
  {
   "cell_type": "code",
   "execution_count": null,
   "id": "7af1a357-076c-47db-ba77-dfb13e06657f",
   "metadata": {},
   "outputs": [],
   "source": [
    "# 11. Count the occurrences of a word in a string.\n",
    "s = input(\"enter a string:\")\n",
    "x=input(\"enter a Word you want to find:\")\n",
    "s=s.lower()\n",
    "count=0\n",
    "for i in s:\n",
    "    if i==x:\n",
    "        count+=1\n",
    "print(\"occurrences of a word in a string is:\",count)\n"
   ]
  },
  {
   "cell_type": "code",
   "execution_count": null,
   "id": "af940af6-e821-4145-9df2-8f0421cfbe4f",
   "metadata": {},
   "outputs": [],
   "source": [
    "# 12. Find the first occurrence of a word in a string.\n",
    "s = input(\"enter a string:\")\n",
    "x=input(\"enter a Word you want to find:\")\n",
    "y=s.find(x)\n",
    "print(\"first occurrence of a word in a string at index:\",y)"
   ]
  },
  {
   "cell_type": "code",
   "execution_count": null,
   "id": "974547e0-dfdf-44d7-812b-c30f34ceb408",
   "metadata": {},
   "outputs": [],
   "source": [
    "# 13. Find the last occurrence of a word in a string.\n",
    "s = input(\"enter a string:\")\n",
    "x=input(\"enter a Word you want to find:\")\n",
    "y=s.rfind(x)\n",
    "print(\"last occurrence of a word in a string at index:\",y)\n"
   ]
  },
  {
   "cell_type": "code",
   "execution_count": null,
   "id": "66241a94-06db-4e88-808a-6fc74a9b31da",
   "metadata": {},
   "outputs": [],
   "source": [
    "# 14. Split a string into a list of words.\n",
    "s = input(\"enter a string:\")\n",
    "s.split(\" \")"
   ]
  },
  {
   "cell_type": "code",
   "execution_count": null,
   "id": "d35bc984-ded6-4c65-9234-376098941da7",
   "metadata": {},
   "outputs": [],
   "source": [
    "# 15. Join a list of words into a string.\n",
    "list1 = ['H', 'e', 'l', 'l', 'o']\n",
    "print(\"\".join(list1))\n"
   ]
  },
  {
   "cell_type": "code",
   "execution_count": null,
   "id": "fcc53ebf-dba5-4157-bd06-5e171f45ae95",
   "metadata": {},
   "outputs": [],
   "source": [
    "'''16. Convert a string where words are separated by spaces to one where words\n",
    "are separated by underscores.'''\n",
    "s = \"Hello World How are you\"\n",
    "s.replace(\" \",\"_\")\n"
   ]
  },
  {
   "cell_type": "code",
   "execution_count": null,
   "id": "9cc3a2a9-bde7-45d6-9c9a-b9a37c99cb01",
   "metadata": {},
   "outputs": [],
   "source": [
    "# 17. Check if a string starts with a specific word or phrase.\n",
    "s = input(\"enter a string:\")\n",
    "x=input(\"enter a Word or phrase you want to find:\")\n",
    "print(s.startswith(x))"
   ]
  },
  {
   "cell_type": "code",
   "execution_count": null,
   "id": "e880e2a1-aa8a-48d6-94ab-a0169d9fbff1",
   "metadata": {},
   "outputs": [],
   "source": [
    "#18 Check if a string ends with a specific word or phrase.\n",
    "s = input(\"enter a string:\")\n",
    "x=input(\"enter a Word or phrase you want to find:\")\n",
    "print(s.endswith(x))"
   ]
  },
  {
   "cell_type": "code",
   "execution_count": null,
   "id": "7fb2ab04-c7e7-413f-b0f4-8a565a74487a",
   "metadata": {},
   "outputs": [],
   "source": [
    "# 19. Convert a string to title case\n",
    "s = input(\"enter a string:\")\n",
    "s.title()"
   ]
  },
  {
   "cell_type": "code",
   "execution_count": null,
   "id": "47e849e6-f875-4e22-9488-8a5f1e3eb1e0",
   "metadata": {},
   "outputs": [],
   "source": [
    "# 20. Find the longest word in a string.\n",
    "s = input(\"enter a string:\")\n",
    "a= s.split()\n",
    "longest = max(a,key=len)\n",
    "print(\"Longest word\",longest)\n"
   ]
  },
  {
   "cell_type": "code",
   "execution_count": null,
   "id": "091fb76f-159a-403c-845c-be9c5d6afbfb",
   "metadata": {},
   "outputs": [],
   "source": [
    "#21. Find the shortest word in a string.\n",
    "s = input(\"enter a string:\")\n",
    "a= s.split()\n",
    "shortest = min(a,key=len)\n",
    "print(\"Shortest word\",shortest)\n"
   ]
  },
  {
   "cell_type": "code",
   "execution_count": null,
   "id": "b7d4b4fd-4985-4fa9-b11c-4f713cffed9d",
   "metadata": {},
   "outputs": [],
   "source": [
    "# 22. Reverse the order of words in a string.\n",
    "s = \"This is New York\"\n",
    "a = s.split()\n",
    "a.reverse()\n",
    "result = \" \".join(a)\n",
    "print(result)"
   ]
  },
  {
   "cell_type": "code",
   "execution_count": null,
   "id": "e4c2c859-76e5-4d05-9e30-59037de1c405",
   "metadata": {},
   "outputs": [],
   "source": [
    "# 23. Check if a string is alphanumeric.\n",
    "s = input(\"enter a string:\")\n",
    "print(s.isalnum())"
   ]
  },
  {
   "cell_type": "code",
   "execution_count": null,
   "id": "4681c1ee-5ec0-4e89-abd7-987c55e1074d",
   "metadata": {},
   "outputs": [],
   "source": [
    "# 24. Extract all digits from a string.\n",
    "s= \"There are 2 apples for 4 persons\"\n",
    "res = []\n",
    "x=s.split()\n",
    "for i in x:\n",
    "    if i.isnumeric():\n",
    "        res.append(int(i))\n",
    "print(\"The numbers list is : \" + str(res))"
   ]
  },
  {
   "cell_type": "code",
   "execution_count": null,
   "id": "f7d81943-48bc-424c-a5c1-598bc04f8a12",
   "metadata": {},
   "outputs": [],
   "source": [
    "# 25. Extract all alphabets from a string.\n",
    "s= \"There are 2 5 for 4 5\"\n",
    "res = []\n",
    "x=s.split()\n",
    "for i in x:\n",
    "    if i.isalpha():\n",
    "        res.append(i)\n",
    "print(\"The Alphabhets list is : \" + str(res))"
   ]
  },
  {
   "cell_type": "code",
   "execution_count": null,
   "id": "865b99a1-df05-4b97-b0a2-7984cbc0b3f3",
   "metadata": {},
   "outputs": [],
   "source": [
    "#26. Count the number of uppercase letters in a string.\n",
    "s = \"This is New York\"\n",
    "count=0\n",
    "for i in s:\n",
    "    if i.isupper():\n",
    "        count+=1\n",
    "print(\"number of uppercase letters in a string:\",count)\n"
   ]
  },
  {
   "cell_type": "code",
   "execution_count": null,
   "id": "b57efd57-bed3-4af7-9c1c-577c3e664ce0",
   "metadata": {},
   "outputs": [],
   "source": [
    "# 27. Count the number of lowercase letters in a string.\n",
    "s = \"This is New York\"\n",
    "count=0\n",
    "for i in s:\n",
    "    if i.islower():\n",
    "        count+=1\n",
    "print(\"number of lowercase letters in a string:\",count)\n"
   ]
  },
  {
   "cell_type": "code",
   "execution_count": null,
   "id": "7624dcb2-d8be-4753-8120-2794a7f73c53",
   "metadata": {},
   "outputs": [],
   "source": [
    "# 28. Swap the case of each character in a string.\n",
    "s= \"Satyam is the best\"\n",
    "print(s.swapcase())"
   ]
  },
  {
   "cell_type": "code",
   "execution_count": null,
   "id": "7dbe31eb-57f8-493b-b1fb-2c0860df94b6",
   "metadata": {},
   "outputs": [],
   "source": [
    "# 29. Remove a specific word from a string.\n",
    "s= \"Satyam is the best\"\n",
    "x=\"is\"\n",
    "print(s.replace(x,\"\"))\n"
   ]
  },
  {
   "cell_type": "code",
   "execution_count": null,
   "id": "fdaf8dfa-9829-4deb-b957-b725446285ad",
   "metadata": {},
   "outputs": [],
   "source": [
    "# 30. Check if a string is a valid email address.\n",
    "import re \n",
    "def is_valid_email(email):\n",
    "    pattern = r'^[\\w\\.-]+@[\\w\\.-]+\\.\\w+$'  \n",
    "    if re.match(pattern, email):\n",
    "        return True\n",
    "    else:\n",
    "        return False\n",
    "\n",
    "email1 = \"example@email.com\"\n",
    "email2 = \"invalid-email\"\n",
    "result1 = is_valid_email(email1)\n",
    "result2 = is_valid_email(email2)\n",
    "print(result1)\n",
    "print(result2)\n",
    "\n"
   ]
  },
  {
   "cell_type": "code",
   "execution_count": null,
   "id": "be032ad5-3a6a-4390-b30c-2dd8016787f5",
   "metadata": {},
   "outputs": [],
   "source": [
    "# 31. Extract the username from an email address string.\n",
    "def extract_username(email):\n",
    "    username = email.split('@')[0]  \n",
    "    return username\n",
    "\n",
    "email = \"satyamm084@gmail.com\"\n",
    "result = extract_username(email)\n",
    "print(result)\n"
   ]
  },
  {
   "cell_type": "code",
   "execution_count": null,
   "id": "94ec235c-96d4-47fc-a9ea-7d9939378ca7",
   "metadata": {},
   "outputs": [],
   "source": [
    "#32. Extract the domain name from an email address string.\n",
    "def extract_domain(email):\n",
    "    domain = email.split('@')[1] \n",
    "    return domain\n",
    "\n",
    "email = \"satyamm084@gmail.com\"\n",
    "result = extract_domain(email)\n",
    "print(result)\n"
   ]
  },
  {
   "cell_type": "code",
   "execution_count": null,
   "id": "a2b067dd-352e-4825-8e19-4384a00a1b8d",
   "metadata": {},
   "outputs": [],
   "source": [
    "#33. Replace multiple spaces in a string with a single space.\n",
    "def replace_multiple_spaces(input_string):\n",
    "    cleaned_string = ' '.join(input_string.split())  \n",
    "    return cleaned_string\n",
    "\n",
    "input_string = \"Hello     world!   How   are   you?\"\n",
    "result = replace_multiple_spaces(input_string)\n",
    "print(result)\n"
   ]
  },
  {
   "cell_type": "code",
   "execution_count": null,
   "id": "3c8c892e-3efb-463d-b12f-83b5a33aef89",
   "metadata": {},
   "outputs": [],
   "source": [
    "#34. Check if a string is a valid URL.\n",
    "from urllib.parse import urlparse\n",
    "\n",
    "def is_valid_url(url):\n",
    "    try:\n",
    "        result = urlparse(url)\n",
    "        return all([result.scheme, result.netloc])  \n",
    "    except ValueError:\n",
    "        return False\n",
    "\n",
    "\n",
    "url1 = \"https://www.example.com\"\n",
    "url2 = \"invalid-url\"\n",
    "result1 = is_valid_url(url1)\n",
    "result2 = is_valid_url(url2)\n",
    "print(result1)  \n",
    "print(result2)  "
   ]
  },
  {
   "cell_type": "code",
   "execution_count": null,
   "id": "14df4dce-f7f1-434c-8fd2-fc442eea14ae",
   "metadata": {},
   "outputs": [],
   "source": [
    "#35. Extract the protocol (http or https) from a URL string.\n",
    "def extract_protocol(url):\n",
    "    \n",
    "    protocol_end = url.find(\"://\")\n",
    "\n",
    "    if protocol_end != -1:\n",
    "     \n",
    "        protocol = url[:protocol_end]\n",
    "        return protocol\n",
    "    else:\n",
    "        return None\n",
    "\n",
    "# Example URL strings\n",
    "url1 = \"https://www.example.com\"\n",
    "url2 = \"http://google.com\"\n",
    "url3 = \"ftp://ftp.example.com\"\n",
    "protocol1 = extract_protocol(url1)\n",
    "protocol2 = extract_protocol(url2)\n",
    "protocol3 = extract_protocol(url3)\n",
    "print(\"Protocol 1:\", protocol1)\n",
    "print(\"Protocol 2:\", protocol2)\n",
    "print(\"Protocol 3:\", protocol3)"
   ]
  },
  {
   "cell_type": "code",
   "execution_count": null,
   "id": "e51c5b7f-069f-4554-a7ce-6e529c9a06fb",
   "metadata": {},
   "outputs": [],
   "source": [
    "#36. Find the frequency of each character in a string.\n",
    "def character_frequency(input_string):\n",
    "    frequency = {}  \n",
    "\n",
    "    for char in input_string:\n",
    "        if char in frequency:\n",
    "            frequency[char] += 1  \n",
    "        else:\n",
    "            frequency[char] = 1   \n",
    "\n",
    "    return frequency\n",
    "\n",
    "input_str = \"hello world\"\n",
    "\n",
    "char_freq = character_frequency(input_str)\n",
    "\n",
    "# Print character frequencies\n",
    "for char, freq in char_freq.items():\n",
    "    print(f\"Character: '{char}', Frequency: {freq}\")"
   ]
  },
  {
   "cell_type": "code",
   "execution_count": null,
   "id": "e594fe0f-40b1-4899-a22f-d71dfd42b3f1",
   "metadata": {},
   "outputs": [],
   "source": [
    "#37. Remove all punctuation from a string.\n",
    "import string\n",
    "\n",
    "def remove_punctuation(input_string): \n",
    "    translator = str.maketrans(\"\", \"\", string.punctuation)\n",
    "    clean_string = input_string.translate(translator)\n",
    "\n",
    "    return clean_string\n",
    "\n",
    "input_str = \"Hello, world! How's it going?\"\n",
    "cleaned_str = remove_punctuation(input_str)\n",
    "\n",
    "print(\"Original string:\", input_str)\n",
    "print(\"Cleaned string:\", cleaned_str)"
   ]
  },
  {
   "cell_type": "code",
   "execution_count": null,
   "id": "78d0a0aa-9b47-4f1f-8744-57df67973910",
   "metadata": {},
   "outputs": [],
   "source": [
    "#38. Check if a string contains only digits.\n",
    "s = input(\"enter a string:\")\n",
    "a = s.isnumeric()\n",
    "if a==True:\n",
    "    print(\"string contains only digits\")\n",
    "else:\n",
    "    print(\"string doesn't contains only digits\")\n",
    "    "
   ]
  },
  {
   "cell_type": "code",
   "execution_count": null,
   "id": "4e577a59-078b-4bf6-9a93-d58e2d2f7efe",
   "metadata": {},
   "outputs": [],
   "source": [
    "#39. Check if a string contains only alphabets.\n",
    "s = input(\"enter a string:\")\n",
    "a = s.isalpha()\n",
    "if a==True:\n",
    "    print(\"string contains only alphabets\")\n",
    "else:\n",
    "    print(\"string doesn't contains only alphabets\")"
   ]
  },
  {
   "cell_type": "code",
   "execution_count": null,
   "id": "b0be0409-01ce-466e-8221-848561b89226",
   "metadata": {},
   "outputs": [],
   "source": [
    "#40. Convert a string to a list of characters.\n",
    "s = input(\"enter a string:\")\n",
    "l=list(s)\n",
    "l"
   ]
  },
  {
   "cell_type": "code",
   "execution_count": null,
   "id": "687a4692-1608-48a0-ae45-711d1eaba8c5",
   "metadata": {},
   "outputs": [],
   "source": [
    "#41. Check if two strings are anagrams.\n",
    "s1 = input(\"enter a string:\")\n",
    "s2 = input(\"enter a string:\")\n",
    "if sorted(s1)==sorted(s2):\n",
    "    print(\"two strings are anagrams\")\n",
    "else:\n",
    "    print(\"two strings are non-anagrams\")\n"
   ]
  },
  {
   "cell_type": "code",
   "execution_count": null,
   "id": "a0d6e60b-742f-4118-8d33-3b107424d8a4",
   "metadata": {},
   "outputs": [],
   "source": [
    "#42. Encode a string using a Caesar cipher.\n",
    "def caesar_cipher(text, shift):\n",
    "\n",
    "  encoded_text = \"\"\n",
    "\n",
    "  for char in text:\n",
    "\n",
    "    if char.isalpha():\n",
    "\n",
    "      encoded_char = chr((ord(char) + shift - ord('a')) % 26 + ord('a'))\n",
    "    else:\n",
    "  \n",
    "      encoded_char = char\n",
    "\n",
    "    encoded_text += encoded_char\n",
    "\n",
    "  return encoded_text\n",
    "\n",
    "text = \"Hello, world!\"\n",
    "shift = 3\n",
    "\n",
    "encoded_text = caesar_cipher(text, shift)\n",
    "\n",
    "print(\"Encoded text:\", encoded_text)\n",
    "\n"
   ]
  },
  {
   "cell_type": "code",
   "execution_count": null,
   "id": "3aeaeab6-f5b8-4734-b618-2e4977bb30b6",
   "metadata": {},
   "outputs": [],
   "source": [
    "#43. Decode a Caesar cipher encoded string.\n",
    "\n",
    "def caesar_cipher_decoder(text, shift):\n",
    "\n",
    "\n",
    "    # Initialize an empty string to store the decoded text\n",
    "    decoded_text = \"\"\n",
    "\n",
    "    # Loop through each character in the input text\n",
    "    for char in text:\n",
    "        # Check if the character is an alphabetic character\n",
    "        if char.isalpha():\n",
    "            # Calculate the decoded character using the shift value\n",
    "            decoded_char = chr((ord(char) - shift - ord('a')) % 26 + ord('a'))\n",
    "        else:\n",
    "            # If the character is not alphabetic, keep it unchanged\n",
    "            decoded_char = char\n",
    "\n",
    "        # Add the decoded character to the decoded text\n",
    "        decoded_text += decoded_char\n",
    "\n",
    "    # Return the fully decoded text\n",
    "    return decoded_text\n",
    "\n",
    "# Example input\n",
    "text = \"lopp, zruog!\"\n",
    "shift = 3\n",
    "\n",
    "# Call the caesar_cipher_decoder function to decode the input text\n",
    "decoded_text = caesar_cipher_decoder(text, shift)\n",
    "\n",
    "# Print the decoded text\n",
    "print(\"Decoded text:\", decoded_text)"
   ]
  },
  {
   "cell_type": "code",
   "execution_count": null,
   "id": "085bf1af-10d9-454c-b5aa-325f29ef21e8",
   "metadata": {},
   "outputs": [],
   "source": [
    "# 44. Find the most frequent word in a string.\n",
    "\n",
    "\n",
    "import re\n",
    "from collections import Counter\n",
    "\n",
    "def most_frequent_word(input_string):\n",
    "    # Remove punctuation and convert to lowercase\n",
    "    clean_string = re.sub(r'[^\\w\\s]', '', input_string).lower()\n",
    "\n",
    "    # Split the string into words\n",
    "    words = clean_string.split()\n",
    "    word_counter = Counter(words)\n",
    "\n",
    "    most_common_word = word_counter.most_common(1)[0][0]\n",
    "    return most_common_word\n",
    "\n",
    "input_str = \"Hello world, hello there! How's the world?\"\n",
    "\n",
    "# Find the most frequent word\n",
    "most_common = most_frequent_word(input_str)\n",
    "\n",
    "# Print the result\n",
    "print(\"Most frequent word:\", most_common)\n"
   ]
  },
  {
   "cell_type": "code",
   "execution_count": null,
   "id": "399a3c1b-4b47-4d38-a7a0-dc49aaedb771",
   "metadata": {},
   "outputs": [],
   "source": [
    "#45. Find all unique words in a string.\n",
    "import re\n",
    "\n",
    "def unique_words(input_string):\n",
    "    clean_string = re.sub(r'[^\\w\\s]', '', input_string).lower()\n",
    "    words = set(clean_string.split())\n",
    "\n",
    "    return words\n",
    "input_str = \"Hello world, hello there! How's the world?\"\n",
    "\n",
    "unique_word_set = unique_words(input_str)\n",
    "print(\"Unique words:\", unique_word_set)"
   ]
  },
  {
   "cell_type": "code",
   "execution_count": null,
   "id": "c7bb9770-91eb-404b-beff-6ab70185fcc4",
   "metadata": {},
   "outputs": [],
   "source": [
    " #46. Count the number of syllables in a string.\n",
    "import re\n",
    "\n",
    "def count_syllables(word):\n",
    "    # Count vowel groups using regular expression\n",
    "    vowel_groups = re.findall(r'[aeiouy]+', word, re.IGNORECASE)\n",
    "\n",
    "    return len(vowel_groups)\n",
    "\n",
    "# Example words\n",
    "word1 = \"hello\"\n",
    "word2 = \"banana\"\n",
    "word3 = \"syllable\"\n",
    "\n",
    "# Count syllables\n",
    "syllables1 = count_syllables(word1)\n",
    "syllables2 = count_syllables(word2)\n",
    "syllables3 = count_syllables(word3)\n",
    "\n",
    "# Print the results\n",
    "print(f\"'{word1}' has {syllables1} syllables.\")\n",
    "print(f\"'{word2}' has {syllables2} syllables.\")\n",
    "print(f\"'{word3}' has {syllables3} syllables.\")"
   ]
  },
  {
   "cell_type": "code",
   "execution_count": null,
   "id": "bd117d27-0b6b-45d6-b0f9-29a0ff798342",
   "metadata": {},
   "outputs": [],
   "source": [
    "#47. Check if a string contains any special characters.\n",
    "import re\n",
    "\n",
    "def contains_special_characters(input_string):\n",
    "    # Define a regular expression pattern to match special characters\n",
    "    pattern = re.compile(r'[!@#$%^&*()_+{}\\[\\]:;<>,.?~\\\\/]')\n",
    "\n",
    "    # Use the search() method to find a match\n",
    "    match = pattern.search(input_string)\n",
    "\n",
    "    # Return True if a match is found, False otherwise\n",
    "    return bool(match)\n",
    "\n",
    "# Example strings\n",
    "string1 = \"Hello, world!\"\n",
    "string2 = \"This is a test.\"\n",
    "string3 = \"Special@Characters\"\n",
    "\n",
    "# Check if strings contain special characters\n",
    "result1 = contains_special_characters(string1)\n",
    "result2 = contains_special_characters(string2)\n",
    "result3 = contains_special_characters(string3)\n",
    "\n",
    "# Print the results\n",
    "print(f\"'{string1}' contains special characters:\", result1)\n",
    "print(f\"'{string2}' contains special characters:\", result2)\n",
    "print(f\"'{string3}' contains special characters:\", result3)"
   ]
  },
  {
   "cell_type": "code",
   "execution_count": null,
   "id": "de674d13-a803-47da-b37e-9bf52f4a6666",
   "metadata": {},
   "outputs": [],
   "source": [
    "#48. Remove the nth word from a string.\n",
    "def remove_nth_word(input_string, n):\n",
    "    # Split the input string into words\n",
    "    words = input_string.split()\n",
    "\n",
    "    # Check if n is within a valid range\n",
    "    if n >= 1 and n <= len(words):\n",
    "        # Remove the nth word by excluding it from the words list\n",
    "        removed_word = words.pop(n - 1)\n",
    "\n",
    "        # Join the remaining words to form the modified string\n",
    "        modified_string = ' '.join(words)\n",
    "\n",
    "        return modified_string, removed_word\n",
    "    else:\n",
    "        return None, None\n",
    "\n",
    "# Example string and n value\n",
    "input_str = \"This is an example sentence to test the function.\"\n",
    "n_value = 4\n",
    "\n",
    "# Remove the nth word\n",
    "modified_str, removed_word = remove_nth_word(input_str, n_value)\n",
    "\n",
    "# Print the results\n",
    "print(\"Original string:\", input_str)\n",
    "if modified_str is not None:\n",
    "    print(\"Modified string:\", modified_str)\n",
    "    print(\"Removed word:\", removed_word)\n",
    "else:\n",
    "    print(\"Invalid n value.\")"
   ]
  },
  {
   "cell_type": "code",
   "execution_count": null,
   "id": "81826c29-299a-4eab-983f-854f7f33dbb4",
   "metadata": {},
   "outputs": [],
   "source": [
    "#49. Insert a word at the nth position in a string.\n",
    "test_string = 'SatyamMishra'\n",
    " \n",
    "# initializing add_string\n",
    "add_string = \"for\"\n",
    " \n",
    "# printing original string\n",
    "print(\"The original string : \" + test_string)\n",
    " \n",
    "# printing add string\n",
    "print(\"The add string : \" + add_string)\n",
    " \n",
    "# initializing N\n",
    "N = 5\n",
    " \n",
    "# using list slicing\n",
    "# Add substring at specific index\n",
    "res = test_string[ : N] + add_string + test_string[N : ]\n",
    "     \n",
    "# print result\n",
    "print(\"The string after performing addition : \" + str(res))"
   ]
  },
  {
   "cell_type": "code",
   "execution_count": null,
   "id": "ed74604e-19ea-4c87-94d4-f19708861cc8",
   "metadata": {},
   "outputs": [],
   "source": [
    "# 50. Convert a CSV string to a list of lists.\n",
    "def csv_string_to_list(csv_string):\n",
    "    # Split the CSV string into lines\n",
    "    lines = csv_string.split('\\n')\n",
    "\n",
    "    # Initialize an empty list to store the result\n",
    "    result = []\n",
    "\n",
    "    for line in lines:\n",
    "        # Split each line into fields using comma as the delimiter\n",
    "        fields = line.split(',')\n",
    "\n",
    "        # Append the fields to the result list as a row\n",
    "        result.append(fields)\n",
    "\n",
    "    return result\n",
    "\n",
    "# Example CSV string\n",
    "csv_data = \"Name, Age, Country\\nJohn, 25, USA\\nAlice, 30, Canada\\nBob, 22, UK\"\n",
    "\n",
    "# Convert CSV string to a list of lists\n",
    "list_of_lists = csv_string_to_list(csv_data)\n",
    "\n",
    "# Print the result\n",
    "for row in list_of_lists:\n",
    "    print(row)"
   ]
  },
  {
   "cell_type": "markdown",
   "id": "00c81224-f8e0-4155-9627-d9dbb7e709fb",
   "metadata": {},
   "source": [
    "List Based Practice Problem :"
   ]
  },
  {
   "cell_type": "code",
   "execution_count": null,
   "id": "b2e712e3-9dc5-4123-a641-729c6f74cc69",
   "metadata": {},
   "outputs": [],
   "source": [
    "#1. Create a list with integers from 1 to 10.\n",
    "l=[i for i in range(1,11)]\n",
    "print(l)\n"
   ]
  },
  {
   "cell_type": "code",
   "execution_count": null,
   "id": "9dec17cd-540a-4833-a5d1-4cfad64306e4",
   "metadata": {},
   "outputs": [],
   "source": [
    "#2. Find the length of a list without using the `len()` function.\n",
    "l=[1,2,3,4,5,6,7]\n",
    "count=0\n",
    "for i in l:\n",
    "    count+=1\n",
    "count"
   ]
  },
  {
   "cell_type": "code",
   "execution_count": null,
   "id": "6ae6eba9-b5f9-4ed8-8115-7f05cf4f7a47",
   "metadata": {},
   "outputs": [],
   "source": [
    "# 3. Append an element to the end of a list.\n",
    "l=[1,2,3,4,5,6,7]\n",
    "l.append(10)\n",
    "l"
   ]
  },
  {
   "cell_type": "code",
   "execution_count": null,
   "id": "ac7176b1-ffe7-4fc0-b847-3974a37ecdee",
   "metadata": {},
   "outputs": [],
   "source": [
    "# 4. Insert an element at a specific index in a list.\n",
    "l=[1,2,3,4,5,6,7]\n",
    "l.insert(4,11)\n",
    "l"
   ]
  },
  {
   "cell_type": "code",
   "execution_count": null,
   "id": "d0dbee06-e1cb-43c5-9bd5-07cd1c1c5327",
   "metadata": {},
   "outputs": [],
   "source": [
    "# 5. Remove an element from a list by its value.\n",
    "l=[1,2,3,4,5,6,7]\n",
    "l.remove(3)\n",
    "l"
   ]
  },
  {
   "cell_type": "code",
   "execution_count": null,
   "id": "3515fa73-ca05-4fea-9fe3-5d7e9555fd8a",
   "metadata": {},
   "outputs": [],
   "source": [
    "# 6. Remove an element from a list by its index.\n",
    "l=[1,2,3,4,5,6,7]\n",
    "l.pop(2)\n",
    "l"
   ]
  },
  {
   "cell_type": "code",
   "execution_count": null,
   "id": "7d42921e-ab98-432b-8181-bae2a541eaac",
   "metadata": {},
   "outputs": [],
   "source": [
    "# 7.Check if an element exists in a list.\n",
    "l=[1,2,3,4,5,6,7]\n",
    "x=51\n",
    "count=0\n",
    "for i in l:\n",
    "    if i==x:\n",
    "        count=1\n",
    "if count==1:\n",
    "    print(\"number found\")\n",
    "else:\n",
    "    print(\"number not found\") "
   ]
  },
  {
   "cell_type": "code",
   "execution_count": null,
   "id": "42688e66-0d4a-4675-beef-a0f3a6f806fa",
   "metadata": {},
   "outputs": [],
   "source": [
    "# 8. Find the index of the first occurrence of an element in a list.\n",
    "l=[1,2,3,4,5,5,7]\n",
    "element = 5\n",
    "x=l.index(element)\n",
    "x"
   ]
  },
  {
   "cell_type": "code",
   "execution_count": null,
   "id": "208970b4-db1d-45fc-ad64-ebad3f52d3d2",
   "metadata": {},
   "outputs": [],
   "source": [
    "# 9. Count the occurrences of an element in a list.\n",
    "l=[1,2,3,5,5,8,5,7]\n",
    "count=0\n",
    "element = 5\n",
    "for i in l:\n",
    "    if i==element:\n",
    "        count+=1\n",
    "count"
   ]
  },
  {
   "cell_type": "code",
   "execution_count": null,
   "id": "15eac666-ec95-4ad2-b49e-21646e1356a3",
   "metadata": {},
   "outputs": [],
   "source": [
    "# 10. Reverse the order of elements in a list.\n",
    "l=[1,2,3,4,5,6,7]\n",
    "l.reverse()\n",
    "l"
   ]
  },
  {
   "cell_type": "code",
   "execution_count": null,
   "id": "cb71c34a-6f98-46ea-b899-2e2518b6df2e",
   "metadata": {},
   "outputs": [],
   "source": [
    "# 11. Sort a list in ascending order.\n",
    "l=[1,3,2,5,9,88,11,23,54,21,568,55]\n",
    "l.sort()\n",
    "l"
   ]
  },
  {
   "cell_type": "code",
   "execution_count": null,
   "id": "843c33fa-0297-4c10-be4e-884b819e1dbd",
   "metadata": {},
   "outputs": [],
   "source": [
    "# 12. Sort a list in descending order.\n",
    "l=[1,3,2,5,9,88,11,23,54,21,568,55]\n",
    "l.sort(reverse=True)\n",
    "l"
   ]
  },
  {
   "cell_type": "code",
   "execution_count": null,
   "id": "2b2192c1-5f5a-4a4b-9dbe-a7f4bcc40cc9",
   "metadata": {},
   "outputs": [],
   "source": [
    "# 13. Create a list of even numbers from 1 to 20.\n",
    "n=20\n",
    "l=[]\n",
    "for i in range(1,n+1):\n",
    "    if i%2==0:\n",
    "        l.append(i)\n",
    "l\n",
    "    "
   ]
  },
  {
   "cell_type": "code",
   "execution_count": null,
   "id": "31c12ecc-3c18-4068-b1b8-d1433e5f08d1",
   "metadata": {},
   "outputs": [],
   "source": [
    "# 14. Create a list of odd numbers from 1 to 20.\n",
    "n=20\n",
    "l=[]\n",
    "for i in range(1,n+1):\n",
    "    if i%2!=0:\n",
    "        l.append(i)\n",
    "l"
   ]
  },
  {
   "cell_type": "code",
   "execution_count": null,
   "id": "8571ab2c-8901-4fff-b021-4f465585bfd7",
   "metadata": {},
   "outputs": [],
   "source": [
    "# 15. Find the sum of all elements in a list\n",
    "l=[1,2,3,4,5,6,7,10,10,10]\n",
    "x=len(l)\n",
    "count=0\n",
    "i=0\n",
    "while i<x:\n",
    "    count=count+l[i]\n",
    "    i+=1\n",
    "count"
   ]
  },
  {
   "cell_type": "code",
   "execution_count": null,
   "id": "7c171e6c-86eb-47a2-9aec-136009499ecd",
   "metadata": {},
   "outputs": [],
   "source": [
    "# 16. Find the maximum value in a list.\n",
    "l=[1,2,3,4,5410,6,7,321,221,10]\n",
    "x=len(l)\n",
    "l.sort()\n",
    "y=l.pop(x-1)\n",
    "y"
   ]
  },
  {
   "cell_type": "code",
   "execution_count": null,
   "id": "b0f8eca7-93ca-4aab-826d-4d65d4a427f8",
   "metadata": {},
   "outputs": [],
   "source": [
    "# 17. Find the minimum value in a list.\n",
    "l=[1,2,3,4,5410,6,7,0,221,10]\n",
    "x=len(l)\n",
    "l.sort()\n",
    "y=l.pop(0)\n",
    "y"
   ]
  },
  {
   "cell_type": "code",
   "execution_count": null,
   "id": "e707b81e-33c7-471e-be6f-ed8359de842b",
   "metadata": {},
   "outputs": [],
   "source": [
    "# 18. Create a list of squares of numbers from 1 to 10.\n",
    "l=[]\n",
    "j=0\n",
    "while i<11:\n",
    "    x=i*i\n",
    "    l.append(x)\n",
    "    i+=1\n",
    "    j+=1\n",
    "print(l)\n"
   ]
  },
  {
   "cell_type": "code",
   "execution_count": null,
   "id": "45fa1936-0d4b-4310-95dc-2e64b8008fb0",
   "metadata": {},
   "outputs": [],
   "source": [
    "# 19. Create a list of random numbers\n",
    "import random\n",
    "rand_list=[]\n",
    "n=10\n",
    "for i in range(n):\n",
    "    rand_list.append(random.randint(3,9))\n",
    "print(rand_list)"
   ]
  },
  {
   "cell_type": "code",
   "execution_count": null,
   "id": "b5d18ab0-3494-46c1-af9a-b565a494fb2b",
   "metadata": {},
   "outputs": [],
   "source": [
    "# 20. Remove duplicates from a list.\n",
    "l=[1,1,2,2,3,3,4,5,5,6,6]\n",
    "a=set(l)\n",
    "list(a)"
   ]
  },
  {
   "cell_type": "code",
   "execution_count": null,
   "id": "73f9e8f9-c2eb-46a4-92a6-bf75707cf084",
   "metadata": {},
   "outputs": [],
   "source": [
    "# 21. Find the common elements between two lists.\n",
    "l1=[1,2,3,4,5,6]\n",
    "l2=[7,8,9,10,1,4,2]\n",
    "l3=[]\n",
    "a=len(l1)\n",
    "b=len(l2)\n",
    "for i in range(a):\n",
    "    for j in range(b):\n",
    "        if l1[i]==l2[j]:\n",
    "            l3.append(l1[i])         \n",
    "print(l3)"
   ]
  },
  {
   "cell_type": "code",
   "execution_count": null,
   "id": "aa77a76b-3a1d-443c-8293-ee969e1bca5c",
   "metadata": {},
   "outputs": [],
   "source": [
    "# 22. Find the difference between two lists\n",
    "li1 = [10, 15, 20, 25, 30, 35, 40]\n",
    "li2 = [25, 40, 35]\n",
    " \n",
    "temp3 = []\n",
    "for element in li1:\n",
    "    if element not in li2:\n",
    "        temp3.append(element)\n",
    " \n",
    "print(temp3)"
   ]
  },
  {
   "cell_type": "code",
   "execution_count": null,
   "id": "2694c06c-e031-41a8-ad9a-26419b4374b9",
   "metadata": {},
   "outputs": [],
   "source": [
    "# 23. Merge two lists.\n",
    "li1 = [10, 15, 20, 26, 30, 36, 41]\n",
    "li2 = [25, 40, 35]\n",
    "print(li1+li2)"
   ]
  },
  {
   "cell_type": "code",
   "execution_count": null,
   "id": "0f184900-70da-4576-9180-c320834d3807",
   "metadata": {},
   "outputs": [],
   "source": [
    "#24. Multiply all elements in a list by 2.\n",
    "l1=[1,2,3,4,8,10]\n",
    "l2=[]\n",
    "x=len(l1)\n",
    "for i in l1:\n",
    "    a=i*2\n",
    "    l2.append(a)\n",
    "print(l2)\n",
    "    "
   ]
  },
  {
   "cell_type": "code",
   "execution_count": null,
   "id": "831d4f59-36b3-4938-b459-c9e3a51f41d4",
   "metadata": {},
   "outputs": [],
   "source": [
    "# 25. Filter out all even numbers from a list.\n",
    "l1=[1,2,3,4,8,10,5,11,23,24]\n",
    "l2=[]\n",
    "for i in l1:\n",
    "    if i%2==0:\n",
    "        l2.append(i)\n",
    "print(l2)"
   ]
  },
  {
   "cell_type": "code",
   "execution_count": null,
   "id": "bd009338-eab3-437f-a0c3-d72d7da58738",
   "metadata": {},
   "outputs": [],
   "source": [
    "# 26. Convert a list of strings to a list of integers\n",
    "l1 = ['1', '2', '3', '4', '5']\n",
    "for i in range(len(l1)):\n",
    "    l1[i]=int(l1[i])\n",
    "print(l1)"
   ]
  },
  {
   "cell_type": "code",
   "execution_count": null,
   "id": "3679a332-2df5-4986-9c19-90743e038e4b",
   "metadata": {},
   "outputs": [],
   "source": [
    "# 27. Convert a list of integers to a list of strings\n",
    "l1 = [1, 2, 3, 4, 5]\n",
    "for i in range(len(l1)):\n",
    "    l1[i]=str(l1[i])\n",
    "print(l1)\n"
   ]
  },
  {
   "cell_type": "code",
   "execution_count": null,
   "id": "9c8aabe6-b8c2-4394-bef7-95322f1616bd",
   "metadata": {},
   "outputs": [],
   "source": [
    "# 28. Flatten a nested list.\n",
    "\n",
    "def flat(lis):\n",
    "    flatList = []\n",
    "    for element in lis:\n",
    "        if type(element) is list:\n",
    "            for item in element:\n",
    "                flatList.append(item)\n",
    "        else:\n",
    "            flatList.append(element)\n",
    "    return flatList\n",
    " \n",
    " \n",
    "lis = [[11, 22, 33, 44], [55, 66, 77], [88, 99, 100]]\n",
    "print('List', lis)\n",
    "print('Flat List', flat(lis))"
   ]
  },
  {
   "cell_type": "code",
   "execution_count": null,
   "id": "b03f1916-0b02-467a-8501-4aa09ca2df5d",
   "metadata": {},
   "outputs": [],
   "source": [
    "# 29. Create a list of the first 10 Fibonacci numbers.\n",
    "l=[0,1]\n",
    "for i in range(2,10):\n",
    "    x=l[i-1]+l[i-2]\n",
    "    l.append(x)\n",
    "print(l)"
   ]
  },
  {
   "cell_type": "code",
   "execution_count": null,
   "id": "1271cc23-0218-40d2-9fdc-9d140855afb1",
   "metadata": {},
   "outputs": [],
   "source": [
    "# 30. Check if a list is sorted\n",
    "def is_sorted_ascending(lst):\n",
    "    for i in range(1, len(lst)):\n",
    "        if lst[i] < lst[i - 1]:\n",
    "            return False\n",
    "    return True\n",
    "\n",
    "# Example list\n",
    "ascending_list = [10, 20, 30, 40, 50]\n",
    "\n",
    "# Check if the list is sorted in ascending order\n",
    "if is_sorted_ascending(ascending_list):\n",
    "    print(\"The list is sorted in ascending order.\")\n",
    "else:\n",
    "    print(\"The list is not sorted in ascending order.\")"
   ]
  },
  {
   "cell_type": "code",
   "execution_count": null,
   "id": "de7086d5-c562-4e35-a08d-f53914cd49ac",
   "metadata": {},
   "outputs": [],
   "source": [
    "# Rotate a list to the left by `n` positions\n",
    "def rotate_left(lst, n):\n",
    "    n = n % len(lst)  # Normalize n to handle cases where n is larger than the list length\n",
    "    # print(n)\n",
    "    rotated = lst[n:] + lst[:n]\n",
    "    return rotated\n",
    "\n",
    "# Example list\n",
    "my_list = [1, 2, 3, 4, 5, 6]\n",
    "\n",
    "# Number of positions to rotate by\n",
    "n = 2\n",
    "\n",
    "# Rotate the list to the left by n positions\n",
    "rotated_list = rotate_left(my_list, n)\n",
    "\n",
    "# Print the rotated list\n",
    "print(\"Rotated list:\", rotated_list)\n",
    "\n"
   ]
  },
  {
   "cell_type": "code",
   "execution_count": null,
   "id": "f80b4b5a-94e8-40b9-b97d-71e0d1d242e3",
   "metadata": {},
   "outputs": [],
   "source": [
    "# 32. Rotate a list to the right by `n` positions.\n",
    "def rotate_right(lst, n):\n",
    "    n = n % len(lst)  # Normalize n to handle cases where n is larger than the list length\n",
    "    # print(n)\n",
    "    rotated = lst[-n:] + lst[:-n]\n",
    "    return rotated\n",
    "\n",
    "# Example list\n",
    "my_list = [1, 2, 3, 4, 5, 6]\n",
    "\n",
    "# Number of positions to rotate by\n",
    "n = 2\n",
    "\n",
    "# Rotate the list to the right by n positions\n",
    "rotated_list = rotate_right(my_list, n)\n",
    "\n",
    "# Print the rotated list\n",
    "print(\"Rotated list:\", rotated_list)"
   ]
  },
  {
   "cell_type": "code",
   "execution_count": null,
   "id": "68d28493-2647-41dc-9517-6b0f97f2ef74",
   "metadata": {},
   "outputs": [],
   "source": [
    "# 33. Create a list of prime numbers up to 50\n",
    "prime_list = []\n",
    "for i in range(2, 50):\n",
    "        if i == 0 or i == 1:\n",
    "            continue\n",
    "        else:\n",
    "            for j in range(2, int(i/2)+1):\n",
    "                if i % j == 0:\n",
    "                    break\n",
    "            else:\n",
    "                prime_list.append(i)\n",
    "print(prime_list)"
   ]
  },
  {
   "cell_type": "code",
   "execution_count": null,
   "id": "54e9bff8-a799-4d90-9d93-484bb269d6e8",
   "metadata": {},
   "outputs": [],
   "source": [
    "# 34. Split a list into chunks of size `n`.\n",
    "my_list = ['geeks', 'for', 'geeks', 'like', \n",
    "           'geeky','nerdy', 'geek', 'love', \n",
    "               'questions','words', 'life'] \n",
    "  \n",
    "# Yield successive n-sized \n",
    "# chunks from l. \n",
    "def divide_chunks(l, n): \n",
    "      \n",
    "    # looping till length l \n",
    "    for i in range(0, len(l), n):  \n",
    "        yield l[i:i + n] \n",
    "  \n",
    "# How many elements each \n",
    "# list should have \n",
    "n = 5\n",
    "  \n",
    "x = list(divide_chunks(my_list, n)) \n",
    "print (x) \n"
   ]
  },
  {
   "cell_type": "code",
   "execution_count": null,
   "id": "18564c26-502b-42ca-b1ee-afa1b7264963",
   "metadata": {},
   "outputs": [],
   "source": [
    "# 35. Find the second largest number in a list.\n",
    "l=[1,2,5,9,8,55,12,56,99,101,5684,568]\n",
    "l.sort()\n",
    "print(l)\n",
    "x=len(l)\n",
    "print(l[x-2])"
   ]
  },
  {
   "cell_type": "code",
   "execution_count": null,
   "id": "ee1429a5-3425-4c5f-8ed0-e0fdfec3bf46",
   "metadata": {},
   "outputs": [],
   "source": [
    "# 36. Replace every element in a list with its square.\n",
    "l=[2,3,4,5,6,7,8]\n",
    "l1=[]\n",
    "for i in l:\n",
    "    x=i*i\n",
    "    l1.append(x)\n",
    "print(l1)"
   ]
  },
  {
   "cell_type": "code",
   "execution_count": null,
   "id": "d1d587c1-f805-4a32-9426-4e60e33e4fd7",
   "metadata": {},
   "outputs": [],
   "source": [
    "# 37. Convert a list to a dictionary where list elements become keys and their\n",
    "# indices become values.\n",
    "my_list = ['apple', 'banana', 'cherry', 'date', 'elderberry']\n",
    "\n",
    "# Convert list to dictionary using dictionary comprehension\n",
    "my_dict = {element: index for index, element in enumerate(my_list)}\n",
    "\n",
    "# Print the resulting dictionary\n",
    "print(\"Converted dictionary:\", my_dict)\n"
   ]
  },
  {
   "cell_type": "code",
   "execution_count": null,
   "id": "e77e66ff-8465-436c-9492-1440209c825c",
   "metadata": {},
   "outputs": [],
   "source": [
    "# 38. Shuffle the elements of a list randomly.\n",
    "l=[2,3,4,5,6,7,8]\n",
    "random.shuffle(l)\n",
    "print(l)\n"
   ]
  },
  {
   "cell_type": "code",
   "execution_count": null,
   "id": "ca9a4e54-d4dd-497c-b91d-57bcc2b9e7bf",
   "metadata": {},
   "outputs": [],
   "source": [
    "# 39. Create a list of the first 10 factorial numbers.\n",
    "def factorial(n):\n",
    "    if n == 0 or n == 1:\n",
    "        return 1\n",
    "    else:\n",
    "        return n * factorial(n - 1)\n",
    "\n",
    "# Create a list of the first 10 factorial numbers\n",
    "factorial_numbers = [factorial(i) for i in range(10)]\n",
    "\n",
    "# Print the list of factorial numbers\n",
    "print(\"List of the first 10 factorial numbers:\", factorial_numbers) "
   ]
  },
  {
   "cell_type": "code",
   "execution_count": null,
   "id": "74f500c0-e480-4d88-915c-24e767fccebf",
   "metadata": {},
   "outputs": [],
   "source": [
    "# 40. Check if two lists have at least one element in common.\n",
    "list1 = [1, 2, 3, 9, 5]\n",
    "list2 = [4, 5, 6, 7, 8]\n",
    "for i in list1:\n",
    "    if i in list2:\n",
    "        x=1\n",
    "    else:\n",
    "        x=0\n",
    "\n",
    "if x==1:\n",
    "    print(\"two lists have at least one element in common\")\n",
    "else:\n",
    "    print(\"two lists haven't at least one element in common\")"
   ]
  },
  {
   "cell_type": "code",
   "execution_count": null,
   "id": "2b786e67-5900-4821-9ef0-9e18f220a6ce",
   "metadata": {},
   "outputs": [],
   "source": [
    "# 41. Remove all elements from a list.\n",
    "l = [1, 2, 3, 9, 5]\n",
    "l.clear()\n",
    "print(l)"
   ]
  },
  {
   "cell_type": "code",
   "execution_count": null,
   "id": "aa0595a7-46f8-4f10-96d8-00f5abb4cfa2",
   "metadata": {},
   "outputs": [],
   "source": [
    "# 42. Replace negative numbers in a list with 0.\n",
    "l = [1, -2, 3, -9, 5]\n",
    "for i in range(len(l)):\n",
    "    if l[i]<0:\n",
    "        l[i]=0\n",
    "print(l)\n",
    "        "
   ]
  },
  {
   "cell_type": "code",
   "execution_count": null,
   "id": "34301834-6b30-4b13-9056-fc949cf3078b",
   "metadata": {},
   "outputs": [],
   "source": [
    "# 43. Convert a string into a list of words.\n",
    "s = \"Hello, this is a sample sentence.\"\n",
    "print(s.split())"
   ]
  },
  {
   "cell_type": "code",
   "execution_count": null,
   "id": "8133ddee-d066-4650-b757-899c86f3c7e6",
   "metadata": {},
   "outputs": [],
   "source": [
    "# 44. Convert a list of words into a string.\n",
    "l= ['Hello,', 'this', 'is', 'a', 'sample', 'sentence.']\n",
    "my_string = \" \".join(l)\n",
    "print(my_string)"
   ]
  },
  {
   "cell_type": "code",
   "execution_count": null,
   "id": "be4a2cd5-9e60-4bdc-9f1b-2956620f3193",
   "metadata": {},
   "outputs": [],
   "source": [
    "# 45. Create a list of the first `n` powers of 2.\n",
    "n = 5\n",
    "\n",
    "# Create a list of the first n powers of 2 using a loop\n",
    "power_list = [2 ** i for i in range(n)]\n",
    "\n",
    "# Print the list of powers of 2\n",
    "print(\"List of the first\", n, \"powers of 2:\", power_list)"
   ]
  },
  {
   "cell_type": "code",
   "execution_count": null,
   "id": "ff9d45b3-4dab-4986-93f4-3a145ebc77b8",
   "metadata": {},
   "outputs": [],
   "source": [
    "# 46. Find the longest string in a list of strings.\n",
    "\n",
    "string_list = [\"apple\", \"banana\", \"cherry\", \"date\", \"elderberry\"]\n",
    "\n",
    "# Find the longest string in the list\n",
    "longest_string = \"\"\n",
    "for s in string_list:\n",
    "    if len(s) > len(longest_string):\n",
    "        longest_string = s\n",
    "\n",
    "# Print the longest string\n",
    "print(\"Longest string:\", longest_string)"
   ]
  },
  {
   "cell_type": "code",
   "execution_count": null,
   "id": "6bbe6a42-05ed-4802-9168-cff4e8d2f854",
   "metadata": {},
   "outputs": [],
   "source": [
    "# 47. Find the shortest string in a list of strings.\n",
    "string_list = [\"apple\", \"banana\", \"cherry\", \"date\", \"elderberry\"]\n",
    "\n",
    "# Find the shortest string in the list\n",
    "shortest_string = string_list[0]  # Initialize with the first string\n",
    "for s in string_list:\n",
    "    if len(s) < len(shortest_string):\n",
    "        shortest_string = s\n",
    "\n",
    "# Print the shortest string\n",
    "print(\"Shortest string:\", shortest_string)\n"
   ]
  },
  {
   "cell_type": "code",
   "execution_count": null,
   "id": "ad2982a5-21a0-414b-9bf1-f1b5bb02612c",
   "metadata": {},
   "outputs": [],
   "source": [
    "# 48. Create a list of the first `n` triangular numbers.\n",
    "def triangular_numbers(n):\n",
    "    return [i * (i + 1) // 2 for i in range(1, n + 1)]\n",
    "\n",
    "# Specify the value of n\n",
    "n = 5\n",
    "\n",
    "# Create a list of the first n triangular numbers\n",
    "triangular_list = triangular_numbers(n)\n",
    "\n",
    "# Print the list of triangular numbers\n",
    "print(\"List of the first\", n, \"triangular numbers:\", triangular_list)"
   ]
  },
  {
   "cell_type": "code",
   "execution_count": null,
   "id": "50eabc4c-ca2e-440d-9ae8-19994162e16d",
   "metadata": {},
   "outputs": [],
   "source": [
    "# 49. Check if a list contains another list as a subsequence.\n",
    "def is_subsequence(subsequence, main_list):\n",
    "    subseq_index = 0  # Index for the subsequence elements\n",
    "    for element in main_list:\n",
    "        if element == subsequence[subseq_index]:\n",
    "            subseq_index += 1\n",
    "            if subseq_index == len(subsequence):\n",
    "                return True\n",
    "    return False\n",
    "\n",
    "# Example main list and subsequence\n",
    "main_list = [1, 2, 3, 4, 5, 6, 7, 8, 9, 10]\n",
    "subsequence = [3, 5, 8]\n",
    "\n",
    "# Check if the main list contains the subsequence\n",
    "if is_subsequence(subsequence, main_list):\n",
    "    print(\"Main list contains the subsequence.\")\n",
    "else:\n",
    "    print(\"Main list does not contain the subsequence.\")"
   ]
  },
  {
   "cell_type": "code",
   "execution_count": null,
   "id": "1c14bf96-521b-44ac-9a0a-782452818c34",
   "metadata": {},
   "outputs": [],
   "source": [
    "# 50. Swap two elements in a list by their indices.\n",
    "my_list = [1, 2, 3, 4, 5]\n",
    "\n",
    "# Indices of elements to swap\n",
    "index1 = 1\n",
    "index2 = 3\n",
    "\n",
    "# Swap the elements at the specified indices\n",
    "temp = my_list[index1]\n",
    "my_list[index1] = my_list[index2]\n",
    "my_list[index2] = temp\n",
    "\n",
    "# Print the list after swapping\n",
    "print(\"List after swapping elements:\", my_list)"
   ]
  },
  {
   "cell_type": "markdown",
   "id": "0526e69a-26a8-49b2-8e27-47166ac026a3",
   "metadata": {},
   "source": [
    "Tuple Based Practice Problem :\n"
   ]
  },
  {
   "cell_type": "code",
   "execution_count": null,
   "id": "d9da579b-a112-4edf-9353-fb8a76fff352",
   "metadata": {},
   "outputs": [],
   "source": [
    "# 1. Create a tuple with integers from 1 to 5.\n",
    "t=(1,2,3,4,5)\n",
    "t"
   ]
  },
  {
   "cell_type": "code",
   "execution_count": null,
   "id": "e90a172e-5f63-48a8-93cb-7346d5281f27",
   "metadata": {},
   "outputs": [],
   "source": [
    "# 2. Access the third element of a tuple.\n",
    "t=(1,2,3,4,5)\n",
    "print(t[2])"
   ]
  },
  {
   "cell_type": "code",
   "execution_count": null,
   "id": "118c3c97-efae-4ac9-86f1-93fb0d965b28",
   "metadata": {},
   "outputs": [],
   "source": [
    "# 3. Find the length of a tuple without using the `len()` function.\n",
    "t=(1,2,3,4,5)\n",
    "count=0\n",
    "for i in t:\n",
    "    count+=1\n",
    "count"
   ]
  },
  {
   "cell_type": "code",
   "execution_count": null,
   "id": "d6bbb920-9090-4e6e-abb2-7ab0654c2356",
   "metadata": {},
   "outputs": [],
   "source": [
    "# 4. Count the occurrences of an element in a tuple.\n",
    "t=(1,2,3,4,5,4,1,2,5,6,5)\n",
    "x=int(input(\"enter a no. to search\"))\n",
    "count=0\n",
    "for i in t:\n",
    "    if x==i:\n",
    "        count+=1\n",
    "count"
   ]
  },
  {
   "cell_type": "code",
   "execution_count": null,
   "id": "c81c6048-dc99-43e3-8af4-2b5f1c2dafe3",
   "metadata": {},
   "outputs": [],
   "source": [
    "# 5. Find the index of the first occurrence of an element in a tuple\n",
    "t=(1,2,3,4,2,5)\n",
    "x=int(input(\"enter a no. to search\"))\n",
    "print(t.index(x))"
   ]
  },
  {
   "cell_type": "code",
   "execution_count": null,
   "id": "1f53a37f-0b1f-46e2-b985-cfb549e2a87c",
   "metadata": {},
   "outputs": [],
   "source": [
    "# 6. Check if an element exists in a tuple.\n",
    "t=(1,2,3,4,2,5)\n",
    "x=int(input(\"enter a no. to search\"))\n",
    "x=t.count(x)\n",
    "if x==1:\n",
    "    print(\"element exists in a tuple\")\n",
    "else:\n",
    "    print(\"element doesn't exists in a tuple\")"
   ]
  },
  {
   "cell_type": "code",
   "execution_count": null,
   "id": "8660c5bb-1c5d-48bb-baa0-d9dbcf39858f",
   "metadata": {},
   "outputs": [],
   "source": [
    "# 7. Convert a tuple to a list.\n",
    "t=(1,2,3,4,2,5)\n",
    "print(list(t))"
   ]
  },
  {
   "cell_type": "code",
   "execution_count": null,
   "id": "c4ceb90a-ed46-44a0-9ff4-3ec54ac1976d",
   "metadata": {},
   "outputs": [],
   "source": [
    "# 8. Convert a list to a tuple\n",
    "l=[1,2,3,4,5,6]\n",
    "print(tuple(l))"
   ]
  },
  {
   "cell_type": "code",
   "execution_count": null,
   "id": "c53d040d-c607-44d5-815b-999701015f26",
   "metadata": {},
   "outputs": [],
   "source": [
    "# 9. Unpack the elements of a tuple into variables.\n",
    "t=(1,2,3)\n",
    "a,b,c = t\n",
    "print(a,b,c)"
   ]
  },
  {
   "cell_type": "code",
   "execution_count": null,
   "id": "903adcdc-dfb8-4ee2-9bed-90eda01bc480",
   "metadata": {},
   "outputs": [],
   "source": [
    "# 10. Create a tuple of even numbers from 1 to 10.\n",
    "l=[]\n",
    "for i in range(1,11):\n",
    "    if (i%2)==0:\n",
    "        l.append(i)\n",
    "print(tuple(l))\n"
   ]
  },
  {
   "cell_type": "code",
   "execution_count": null,
   "id": "c708364b-138a-4106-9999-abcb6e19c600",
   "metadata": {},
   "outputs": [],
   "source": [
    "# 11. Create a tuple of odd numbers from 1 to 10.\n",
    "l=[]\n",
    "for i in range(1,11):\n",
    "    if (i%2)!=0:\n",
    "        l.append(i)\n",
    "print(tuple(l))"
   ]
  },
  {
   "cell_type": "code",
   "execution_count": null,
   "id": "3230bead-dbc7-40e4-a70f-06cb0d285ae7",
   "metadata": {},
   "outputs": [],
   "source": [
    "# 12. Concatenate two tuples.\n",
    "t1=(1,2,3,4,2,5)\n",
    "t2=(3,4,2,5)\n",
    "print(t1+t2)"
   ]
  },
  {
   "cell_type": "code",
   "execution_count": null,
   "id": "667cba1a-fcee-4e11-a2c0-7e655e63313a",
   "metadata": {},
   "outputs": [],
   "source": [
    "# 13. Repeat a tuple three times\n",
    "t2=(3,4,2,5)\n",
    "print(3*t2)"
   ]
  },
  {
   "cell_type": "code",
   "execution_count": null,
   "id": "5b66f24a-dac4-4253-bd3b-d68b810e29fa",
   "metadata": {},
   "outputs": [],
   "source": [
    "# 14. Check if a tuple is empty.\n",
    "t=(1)\n",
    "if not t:\n",
    "    print(\"tuple is empty\")\n",
    "else:\n",
    "    print(\"tuple is not empty\")"
   ]
  },
  {
   "cell_type": "code",
   "execution_count": null,
   "id": "104049d3-d833-4f16-a820-eb3811980e37",
   "metadata": {},
   "outputs": [],
   "source": [
    "# 15. Create a nested tuple.\n",
    "t=(1,1,2,3,(8,9,100),(True))\n",
    "t"
   ]
  },
  {
   "cell_type": "code",
   "execution_count": null,
   "id": "7f54efdf-84cc-4faa-ad34-c608f497d97b",
   "metadata": {},
   "outputs": [],
   "source": [
    "# 16. Access the first element of a nested tuple.\n",
    "t=((8,9,100),1,(4,1,2),1,1,2,3)\n",
    "t[0]"
   ]
  },
  {
   "cell_type": "code",
   "execution_count": null,
   "id": "348fff65-ac1a-45dd-bbcb-a31eb9160de2",
   "metadata": {},
   "outputs": [],
   "source": [
    "# 17. Create a tuple with a single element.\n",
    "t=(69)\n",
    "t"
   ]
  },
  {
   "cell_type": "code",
   "execution_count": null,
   "id": "e57ff74c-860e-4fa4-b281-1a7114c4a443",
   "metadata": {},
   "outputs": [],
   "source": [
    "# 18. Compare two tuples.\n",
    "t1=(1,2,3)\n",
    "t2=(3,2,1)\n",
    "print(t1==t2)\n",
    "print(t1!=t2)\n",
    "print(t1>t2)\n",
    "print(t1<t2)"
   ]
  },
  {
   "cell_type": "code",
   "execution_count": null,
   "id": "bc81530b-b604-41cf-b772-a82a45a7e89a",
   "metadata": {},
   "outputs": [],
   "source": [
    "# 19. Delete a tuple.\n",
    "t1=(1,2,3)\n",
    "del t1\n",
    "print(t1)"
   ]
  },
  {
   "cell_type": "code",
   "execution_count": null,
   "id": "2666506a-bede-460e-8c98-fe346ff75e19",
   "metadata": {},
   "outputs": [],
   "source": [
    "# 20. Slice a tuple.\n",
    "t=(1, 2, 3, 4, 5, 6, 7, 8, 9, 10)\n",
    "t1=t[2:5]\n",
    "t1"
   ]
  },
  {
   "cell_type": "code",
   "execution_count": null,
   "id": "94b5b93e-e547-4fb0-af78-f42ccbc366dc",
   "metadata": {},
   "outputs": [],
   "source": [
    "# 21. Find the maximum value in a tuple.\n",
    "t=(1, 2, 3, 4, 5, 6, 7, 800, 9, 10)\n",
    "max(t)"
   ]
  },
  {
   "cell_type": "code",
   "execution_count": null,
   "id": "5cf18240-369e-4e00-84c1-8cfa824f6c97",
   "metadata": {},
   "outputs": [],
   "source": [
    "# 22. Find the minimum value in a tuple\n",
    "t=(1, 2, 3, 4, 5, 6, 7, 800, 9, 10)\n",
    "min(t)"
   ]
  },
  {
   "cell_type": "code",
   "execution_count": null,
   "id": "7aca6261-586a-48ce-8f9c-b6ccd9abeb1a",
   "metadata": {},
   "outputs": [],
   "source": [
    "# 23. Convert a string to a tuple of characters\n",
    "s=\"Hello how are you\"\n",
    "print(tuple(s))"
   ]
  },
  {
   "cell_type": "code",
   "execution_count": null,
   "id": "3a22dcbb-ca28-473f-a213-2bba53818e9c",
   "metadata": {},
   "outputs": [],
   "source": [
    "# 24. Convert a tuple of characters to a string.\n",
    "t= ('H', 'e', 'l', 'l', 'o', ' ', 'h', 'o', 'w', ' ', 'a', 'r', 'e', ' ', 'y', 'o', 'u')\n",
    "s=''.join(t)\n",
    "s"
   ]
  },
  {
   "cell_type": "code",
   "execution_count": null,
   "id": "9cae2f80-6b51-4b79-b72f-b108b09a5204",
   "metadata": {},
   "outputs": [],
   "source": [
    "# 25. Create a tuple from multiple data types.\n",
    "t=(1,2,3,True,3.145,\"hello\")\n",
    "t"
   ]
  },
  {
   "cell_type": "code",
   "execution_count": null,
   "id": "4a8b3846-8158-42d6-9d69-31c13d77312d",
   "metadata": {},
   "outputs": [],
   "source": [
    "# 26. Check if two tuples are identical\n",
    "t1=(1,1,2,3)\n",
    "t2=(1,1,3,2)\n",
    "print(\"two tuples are identical:\",t1==t2)"
   ]
  },
  {
   "cell_type": "code",
   "execution_count": null,
   "id": "3ca9fd3b-b7d0-4d11-b677-ff79c17ca35b",
   "metadata": {},
   "outputs": [],
   "source": [
    "# 27. Sort the elements of a tuple\n",
    "t=(11, 2, 32, 4, 1,5, 6, 7, 800, 9, 10)\n",
    "sorted(t)\n"
   ]
  },
  {
   "cell_type": "code",
   "execution_count": null,
   "id": "08a6034a-c7ba-4284-aefd-0a2ee4f97985",
   "metadata": {},
   "outputs": [],
   "source": [
    "# 28. Convert a tuple of integers to a tuple of strings\n",
    "t=(11, 2, 32, 4, 1, 5, 6, 7, 800, 9, 10)\n",
    "t1=tuple(str(item) for item in t)\n",
    "t1"
   ]
  },
  {
   "cell_type": "code",
   "execution_count": null,
   "id": "097877b6-e2b4-4769-94cd-801ab36ce05b",
   "metadata": {},
   "outputs": [],
   "source": [
    "# 29. Convert a tuple of strings to a tuple of integers.\n",
    "t=('11', '2', '32', '4', '1', '5', '6', '7', '800', '9', '10')\n",
    "t1=tuple(int(item) for item in t)\n",
    "t1"
   ]
  },
  {
   "cell_type": "code",
   "execution_count": null,
   "id": "4b0e5272-7862-425e-b729-d8642853b73b",
   "metadata": {},
   "outputs": [],
   "source": [
    "# 30. Merge two tuples.\n",
    "t1=(1,2,3,4,56,7)\n",
    "t2=(11,22,32,4,56,7)\n",
    "print(t1+t2)"
   ]
  },
  {
   "cell_type": "code",
   "execution_count": null,
   "id": "383bb050-0ef1-48e8-89e0-8e7475d32034",
   "metadata": {},
   "outputs": [],
   "source": [
    "# 31. Flatten a nested tuple\n",
    "def flatten_tuple(nested_tuple):\n",
    "    flattened = []\n",
    "    for item in nested_tuple:\n",
    "        if isinstance(item, tuple):\n",
    "            flattened.extend(flatten_tuple(item))\n",
    "        else:\n",
    "            flattened.append(item)\n",
    "    return flattened\n",
    "\n",
    "# Step 1: Create a nested tuple\n",
    "nested_tuple = ((1, 2), (3, 4, 5), (6, (7, 8)))\n",
    "\n",
    "# Step 2: Flatten the nested tuple\n",
    "flattened_tuple = tuple(flatten_tuple(nested_tuple))\n",
    "\n",
    "# Step 3: Print the flattened tuple\n",
    "print(\"Flattened tuple:\", flattened_tuple)\n",
    "\n",
    "\n",
    "\n"
   ]
  },
  {
   "cell_type": "code",
   "execution_count": null,
   "id": "e14ece0d-9a1b-4724-9b24-2ca0c3f3ee92",
   "metadata": {},
   "outputs": [],
   "source": [
    "# 32. Create a tuple of the first 5 prime numbers.\n",
    "prime_list = []\n",
    "for i in range(2, 12):\n",
    "        if i == 0 or i == 1:\n",
    "            continue\n",
    "        else:\n",
    "            for j in range(2, int(i/2)+1):\n",
    "                if i % j == 0:\n",
    "                    break\n",
    "            else:\n",
    "                prime_list.append(i)\n",
    "print(tuple(prime_list))"
   ]
  },
  {
   "cell_type": "code",
   "execution_count": null,
   "id": "471a27e5-d5be-4a37-a976-e0eb6dbe1d9b",
   "metadata": {},
   "outputs": [],
   "source": [
    "# 33. Check if a tuple is a palindrome.\n",
    "t1=(1,2,3,2,1)\n",
    "t2=t1[::-1]\n",
    "print(\"tuple is a palindrome:\",t1==t2)\n"
   ]
  },
  {
   "cell_type": "code",
   "execution_count": null,
   "id": "90422918-6d4f-47a6-992a-e35930fcfddc",
   "metadata": {},
   "outputs": [],
   "source": [
    "# 34. Create a tuple of squares of numbers from 1 to 5.\n",
    "l=[]\n",
    "for i in range(1,6):\n",
    "    x=i*i\n",
    "    l.append(x)\n",
    "tuple(l)\n"
   ]
  },
  {
   "cell_type": "code",
   "execution_count": null,
   "id": "114564e1-0e16-462f-aee3-4c07cabdcbb1",
   "metadata": {},
   "outputs": [],
   "source": [
    "# 35. Filter out all even numbers from a tuple.\n",
    "t=(11, 2, 32, 4, 1, 5, 6, 72, 800, 9, 10)\n",
    "l=[]\n",
    "for i in t:\n",
    "    if i%2==0:\n",
    "        l.append(i)\n",
    "tuple(l)"
   ]
  },
  {
   "cell_type": "code",
   "execution_count": null,
   "id": "432e0461-6856-47de-a647-437ae79dc5b1",
   "metadata": {},
   "outputs": [],
   "source": [
    "# 36. Multiply all elements in a tuple by 2.\n",
    "t1=(11,2,33,25,10)\n",
    "l=[]\n",
    "for i in t1:\n",
    "    l.append(i*2)\n",
    "tuple(l)"
   ]
  },
  {
   "cell_type": "code",
   "execution_count": null,
   "id": "b5843a02-5183-4775-91ff-afe1b93aa47b",
   "metadata": {},
   "outputs": [],
   "source": [
    "#37. Create a tuple of random numbers\n",
    "import random\n",
    "random_tuple = tuple(random.randint(1, 100) for _ in range(10)) \n",
    "print(\"Random tuple:\", random_tuple)\n"
   ]
  },
  {
   "cell_type": "code",
   "execution_count": null,
   "id": "08f7d320-3c42-49ac-978e-bbdddfa16efb",
   "metadata": {},
   "outputs": [],
   "source": [
    "# 38. Check if a tuple is sorted.\n",
    "def is_sorted(tup):\n",
    "    for i in range(len(tup) - 1):\n",
    "        if tup[i] > tup[i + 1]:\n",
    "            return False\n",
    "    return True\n",
    "\n",
    "# Create tuples for testing\n",
    "sorted_tuple = (1, 2, 3, 4, 5)\n",
    "unsorted_tuple = (5, 3, 1, 4, 2)\n",
    "\n",
    "# Check if the tuples are sorted\n",
    "is_sorted1 = is_sorted(sorted_tuple)\n",
    "is_sorted2 = is_sorted(unsorted_tuple)\n",
    "\n",
    "# Print the results\n",
    "print(\"sorted_tuple is sorted:\", is_sorted1)\n",
    "print(\"unsorted_tuple is sorted:\", is_sorted2)"
   ]
  },
  {
   "cell_type": "code",
   "execution_count": null,
   "id": "afbfabca-bdf9-49d8-a059-b95f5d969106",
   "metadata": {},
   "outputs": [],
   "source": [
    "# 39. Rotate a tuple to the left by `n` positions\n",
    "def rotate_tuple_left(tup, n):\n",
    "    n = n % len(tup)  # Ensure n is within the range of tuple length\n",
    "    rotated_tuple = tup[n:] + tup[:n]  # Rotate the tuple\n",
    "    return rotated_tuple\n",
    "\n",
    "# Example tuple\n",
    "my_tuple = (1, 2, 3, 4, 5)\n",
    "n_positions = 2\n",
    "result = rotate_tuple_left(my_tuple, n_positions)\n",
    "print(result)"
   ]
  },
  {
   "cell_type": "code",
   "execution_count": null,
   "id": "194adf35-3643-4c55-be18-e1d1bcd51955",
   "metadata": {},
   "outputs": [],
   "source": [
    "#40. Rotate a tuple to the right by `n` positions.\n",
    "\n",
    "def rotate_tuple_right(tup, n):\n",
    "    n = n % len(tup)  # Ensure n is within the range of tuple length\n",
    "    rotated_tuple = tup[-n:] + tup[:-n]  # Rotate the tuple\n",
    "    return rotated_tuple\n",
    "\n",
    "# Example tuple\n",
    "my_tuple = (1, 2, 3, 4, 5)\n",
    "n_positions = 2\n",
    "result = rotate_tuple_right(my_tuple, n_positions)\n",
    "print(result)"
   ]
  },
  {
   "cell_type": "code",
   "execution_count": null,
   "id": "7acbcd1e-8ddd-44a0-ba3c-72062a2579db",
   "metadata": {},
   "outputs": [],
   "source": [
    "# 41. Create a tuple of the first 5 Fibonacci numbers.\n"
   ]
  },
  {
   "cell_type": "code",
   "execution_count": null,
   "id": "202fdba4-7ed8-4a3a-a259-b3f0b2a80558",
   "metadata": {},
   "outputs": [],
   "source": [
    "# 42. Create a tuple from user input.\n",
    "t=[]\n",
    "x=int(input(\"Enter a value:\"))\n",
    "for i in range(x):\n",
    "        t.append(int(input()))\n",
    "tuple(t)"
   ]
  },
  {
   "cell_type": "code",
   "execution_count": 3,
   "id": "4ae1dfcc-f07c-4027-932d-770e0a276fdd",
   "metadata": {},
   "outputs": [
    {
     "name": "stdout",
     "output_type": "stream",
     "text": [
      "Swapped tuple: (1, 4, 3, 2, 5)\n"
     ]
    }
   ],
   "source": [
    "#43. Swap two elements in a tuple.\n",
    "my_tuple = (1, 2, 3, 4, 5)\n",
    "\n",
    "# Swap elements at indices 1 and 3\n",
    "index1 = 1\n",
    "index2 = 3\n",
    "swapped_tuple = tuple(\n",
    "    my_tuple[i] if i not in (index1, index2) else\n",
    "    my_tuple[index2] if i == index1 else\n",
    "    my_tuple[index1]\n",
    "    for i in range(len(my_tuple))\n",
    ")\n",
    "\n",
    "# Print the swapped tuple\n",
    "print(\"Swapped tuple:\", swapped_tuple)"
   ]
  },
  {
   "cell_type": "code",
   "execution_count": 2,
   "id": "ea9416f3-8ba7-44e7-b5c8-5954d0c0f0f2",
   "metadata": {},
   "outputs": [
    {
     "name": "stdout",
     "output_type": "stream",
     "text": [
      "(5, 4, 3, 2, 1)\n"
     ]
    }
   ],
   "source": [
    "#44. Reverse the elements of a tuple.\n",
    "t = (1, 2, 3, 4, 5)\n",
    "print(t[::-1])"
   ]
  },
  {
   "cell_type": "code",
   "execution_count": 4,
   "id": "c77023f8-8859-44da-bca7-a39bbc3562f3",
   "metadata": {},
   "outputs": [
    {
     "name": "stdout",
     "output_type": "stream",
     "text": [
      "Tuple of the first 5 powers of 2: (1, 2, 4, 8, 16)\n"
     ]
    }
   ],
   "source": [
    "# 45. Create a tuple of the first `n` powers of 2.\n",
    "n = 5\n",
    "\n",
    "# Create a tuple of the first n powers of 2 using a list comprehension\n",
    "powers_of_2_tuple = tuple(2 ** i for i in range(n))\n",
    "\n",
    "# Print the tuple of powers of 2\n",
    "print(\"Tuple of the first\", n, \"powers of 2:\", powers_of_2_tuple)"
   ]
  },
  {
   "cell_type": "code",
   "execution_count": 7,
   "id": "b586b753-8c6d-4808-bf5d-fda276929c6c",
   "metadata": {},
   "outputs": [
    {
     "name": "stdout",
     "output_type": "stream",
     "text": [
      "watermelon\n"
     ]
    }
   ],
   "source": [
    "# 46. Find the longest string in a tuple of strings.\n",
    "t = (\"apple\", \"banana\", \"grape\", \"kiwi\", \"watermelon\")\n",
    "s=max(t,key=len)\n",
    "print(s)"
   ]
  },
  {
   "cell_type": "code",
   "execution_count": 6,
   "id": "7357228b-b3da-41dd-a0e6-e7357b8fba70",
   "metadata": {},
   "outputs": [
    {
     "name": "stdout",
     "output_type": "stream",
     "text": [
      "kiwi\n"
     ]
    }
   ],
   "source": [
    "# 47. Find the shortest string in a tuple of strings.\n",
    "t = (\"apple\", \"banana\", \"grape\", \"kiwi\", \"watermelon\")\n",
    "s=min(t,key=len)\n",
    "print(s)\n"
   ]
  },
  {
   "cell_type": "code",
   "execution_count": 9,
   "id": "7e0477a7-db96-4050-b641-859cdc62513f",
   "metadata": {},
   "outputs": [
    {
     "name": "stdout",
     "output_type": "stream",
     "text": [
      "Tuple of the first 5 triangular numbers: (1, 3, 6, 10, 15)\n"
     ]
    }
   ],
   "source": [
    "#48. Create a tuple of the first `n` triangular numbers\n",
    "n = 5\n",
    "\n",
    "# Create a tuple of the first n triangular numbers using a list comprehension\n",
    "triangular_numbers_tuple = tuple((i * (i + 1)) // 2 for i in range(1, n + 1))\n",
    "\n",
    "# Print the tuple of triangular numbers\n",
    "print(\"Tuple of the first\", n, \"triangular numbers:\", triangular_numbers_tuple)"
   ]
  },
  {
   "cell_type": "code",
   "execution_count": 10,
   "id": "c527c0c8-5fe2-4d0f-be2c-7da2d57192f1",
   "metadata": {},
   "outputs": [
    {
     "name": "stdout",
     "output_type": "stream",
     "text": [
      "Main tuple contains subsequence tuple: True\n"
     ]
    }
   ],
   "source": [
    "# 49. Check if a tuple contains another tuple as a subsequence.\n",
    "def contains_subsequence(main_tuple, sub_tuple):\n",
    "    sub_length = len(sub_tuple)\n",
    "    for i in range(len(main_tuple) - sub_length + 1):\n",
    "        if main_tuple[i:i+sub_length] == sub_tuple:\n",
    "            return True\n",
    "    return False\n",
    "\n",
    "# Main tuple\n",
    "main_tuple = (1, 2, 3, 4, 5, 6, 7, 8, 9)\n",
    "\n",
    "# Subsequence tuple\n",
    "sub_tuple = (3, 4, 5)\n",
    "\n",
    "# Check if the main tuple contains the subsequence tuple\n",
    "contains_subseq = contains_subsequence(main_tuple, sub_tuple)\n",
    "\n",
    "# Print the result\n",
    "print(\"Main tuple contains subsequence tuple:\", contains_subseq)"
   ]
  },
  {
   "cell_type": "code",
   "execution_count": 11,
   "id": "d56e777c-727b-400d-b530-6b9023cad15d",
   "metadata": {},
   "outputs": [
    {
     "name": "stdout",
     "output_type": "stream",
     "text": [
      "Tuple of alternating 1s and 0s: (0, 1, 0, 1, 0, 1, 0, 1, 0, 1)\n"
     ]
    }
   ],
   "source": [
    "# 50. Create a tuple of alternating 1s and 0s of length `n`.\n",
    "n = 10\n",
    "\n",
    "# Create a tuple of alternating 1s and 0s using a list comprehension\n",
    "alternating_tuple = tuple(i % 2 for i in range(n))\n",
    "\n",
    "# Print the tuple of alternating 1s and 0s\n",
    "print(\"Tuple of alternating 1s and 0s:\", alternating_tuple)"
   ]
  },
  {
   "cell_type": "markdown",
   "id": "2db73d80-0acf-4064-a6b7-060c3b9c83c7",
   "metadata": {},
   "source": [
    "Set Based Practice Problem :"
   ]
  },
  {
   "cell_type": "code",
   "execution_count": 13,
   "id": "d7a68c88-50f7-4060-8744-c05562b60564",
   "metadata": {},
   "outputs": [
    {
     "data": {
      "text/plain": [
       "{1, 2, 4, 5, 21}"
      ]
     },
     "execution_count": 13,
     "metadata": {},
     "output_type": "execute_result"
    }
   ],
   "source": [
    "# 1. Create a set with integers from 1 to 5.\n",
    "s={1,2,21,4,5}\n",
    "s"
   ]
  },
  {
   "cell_type": "code",
   "execution_count": 15,
   "id": "bc152b9c-e33e-45f3-ae1a-86b15891e39d",
   "metadata": {},
   "outputs": [
    {
     "data": {
      "text/plain": [
       "{1, 2, 4, 5, 11, 21}"
      ]
     },
     "execution_count": 15,
     "metadata": {},
     "output_type": "execute_result"
    }
   ],
   "source": [
    "# 2. Add an element to a set.\n",
    "s={1,2,3,4,5}\n",
    "s.add(11)\n",
    "s"
   ]
  },
  {
   "cell_type": "code",
   "execution_count": 16,
   "id": "86201bba-bf75-44c3-8572-d58b7a3e6221",
   "metadata": {},
   "outputs": [
    {
     "data": {
      "text/plain": [
       "{1, 2, 3, 5}"
      ]
     },
     "execution_count": 16,
     "metadata": {},
     "output_type": "execute_result"
    }
   ],
   "source": [
    "# 3. Remove an element from a set.\n",
    "s={1,2,3,4,5}\n",
    "s.remove(4)\n",
    "s"
   ]
  },
  {
   "cell_type": "code",
   "execution_count": 20,
   "id": "73fa0410-e29b-4bd2-967d-3cebf99f29e0",
   "metadata": {},
   "outputs": [
    {
     "name": "stdin",
     "output_type": "stream",
     "text": [
      "enter an element: 1\n"
     ]
    },
    {
     "name": "stdout",
     "output_type": "stream",
     "text": [
      "element exists in a set\n"
     ]
    }
   ],
   "source": [
    "# 4. Check if an element exists in a set.\n",
    "s={1,2,3,4,5}\n",
    "x=int(input(\"enter an element:\"))\n",
    "if x in s:\n",
    "    print(\"element exists in a set\")\n",
    "else:\n",
    "    print(\"element doesn't exists in a set\")\n",
    "   "
   ]
  },
  {
   "cell_type": "code",
   "execution_count": 21,
   "id": "6a5666fc-535f-4340-85e5-dcb846928768",
   "metadata": {},
   "outputs": [
    {
     "data": {
      "text/plain": [
       "5"
      ]
     },
     "execution_count": 21,
     "metadata": {},
     "output_type": "execute_result"
    }
   ],
   "source": [
    "# 5. Find the length of a set without using the `len()` function\n",
    "s={1,2,3,4,5}\n",
    "count=0\n",
    "for i in s:\n",
    "    count+=1\n",
    "count\n"
   ]
  },
  {
   "cell_type": "code",
   "execution_count": 25,
   "id": "5fb11b4e-b390-443d-8600-e7778f01c294",
   "metadata": {},
   "outputs": [
    {
     "data": {
      "text/plain": [
       "set()"
      ]
     },
     "execution_count": 25,
     "metadata": {},
     "output_type": "execute_result"
    }
   ],
   "source": [
    "# 6. Clear all elements from a set.\n",
    "s={1,2,3,4,5}\n",
    "s.clear()\n",
    "s"
   ]
  },
  {
   "cell_type": "code",
   "execution_count": 36,
   "id": "5f3ae310-7ac2-4e87-84f7-407e43927860",
   "metadata": {},
   "outputs": [
    {
     "data": {
      "text/plain": [
       "{2, 4, 6, 8, 10}"
      ]
     },
     "execution_count": 36,
     "metadata": {},
     "output_type": "execute_result"
    }
   ],
   "source": [
    "# 7. Create a set of even numbers from 1 to 10.\n",
    "s=set()\n",
    "for i in range(1,11):\n",
    "    if i%2==0:\n",
    "        s.add(i)\n",
    "s"
   ]
  },
  {
   "cell_type": "code",
   "execution_count": 37,
   "id": "40ebbeac-96d6-4bb0-8501-19ee6eda2827",
   "metadata": {},
   "outputs": [
    {
     "data": {
      "text/plain": [
       "{1, 3, 5, 7, 9}"
      ]
     },
     "execution_count": 37,
     "metadata": {},
     "output_type": "execute_result"
    }
   ],
   "source": [
    "# 8. Create a set of odd numbers from 1 to 10\n",
    "s=set()\n",
    "for i in range(1,11):\n",
    "    if i%2!=0:\n",
    "        s.add(i)\n",
    "s"
   ]
  },
  {
   "cell_type": "code",
   "execution_count": 39,
   "id": "6c440c31-67a0-4667-9457-59152c06a7be",
   "metadata": {},
   "outputs": [
    {
     "data": {
      "text/plain": [
       "{1, 2, 3, 4, 5, 33, 44, 55}"
      ]
     },
     "execution_count": 39,
     "metadata": {},
     "output_type": "execute_result"
    }
   ],
   "source": [
    "#9. Find the union of two sets.\n",
    "s={1,2,3,4,5}\n",
    "s1={1,2,33,44,55}\n",
    "s.union(s1)"
   ]
  },
  {
   "cell_type": "code",
   "execution_count": 40,
   "id": "2bcda6e4-66e6-4393-bd24-7683bea9271d",
   "metadata": {},
   "outputs": [
    {
     "data": {
      "text/plain": [
       "{1, 2}"
      ]
     },
     "execution_count": 40,
     "metadata": {},
     "output_type": "execute_result"
    }
   ],
   "source": [
    "# 10. Find the intersection of two sets.\n",
    "s={1,2,3,4,5}\n",
    "s1={1,2,33,44,55}\n",
    "s.intersection(s1)\n"
   ]
  },
  {
   "cell_type": "code",
   "execution_count": 41,
   "id": "47d40719-f46f-4689-93e8-feec0b2440e9",
   "metadata": {},
   "outputs": [
    {
     "data": {
      "text/plain": [
       "{3, 4, 5}"
      ]
     },
     "execution_count": 41,
     "metadata": {},
     "output_type": "execute_result"
    }
   ],
   "source": [
    "# 11. Find the difference between two sets\n",
    "s={1,2,3,4,5}\n",
    "s1={1,2,33,44,55}\n",
    "s.difference(s1)\n"
   ]
  },
  {
   "cell_type": "code",
   "execution_count": 42,
   "id": "dd07f432-ac86-444f-8509-c5be25131f54",
   "metadata": {},
   "outputs": [
    {
     "data": {
      "text/plain": [
       "False"
      ]
     },
     "execution_count": 42,
     "metadata": {},
     "output_type": "execute_result"
    }
   ],
   "source": [
    "# 12. Check if a set is a subset of another set\n",
    "s={1,2,3,4,5}\n",
    "s1={1,2,33,44,55}\n",
    "s.issubset(s1)\n"
   ]
  },
  {
   "cell_type": "code",
   "execution_count": 43,
   "id": "6bacaf5a-7e20-46aa-947a-18ccc05179b9",
   "metadata": {},
   "outputs": [
    {
     "data": {
      "text/plain": [
       "False"
      ]
     },
     "execution_count": 43,
     "metadata": {},
     "output_type": "execute_result"
    }
   ],
   "source": [
    "# 13. Check if a set is a superset of another set.\n",
    "s={1,2,3,4,5}\n",
    "s1={1,2,33,44,55}\n",
    "s.issuperset(s1)"
   ]
  },
  {
   "cell_type": "code",
   "execution_count": 44,
   "id": "673337e9-81e3-4765-a76c-8712d1a6a1b4",
   "metadata": {},
   "outputs": [
    {
     "data": {
      "text/plain": [
       "{1, 2, 3, 4, 5}"
      ]
     },
     "execution_count": 44,
     "metadata": {},
     "output_type": "execute_result"
    }
   ],
   "source": [
    "# 14. Create a set from a list.\n",
    "l=[1,2,3,4,5]\n",
    "set(l)"
   ]
  },
  {
   "cell_type": "code",
   "execution_count": 45,
   "id": "d2e42116-038a-4250-859f-c0eff8535218",
   "metadata": {},
   "outputs": [
    {
     "data": {
      "text/plain": [
       "[1, 2, 3, 4, 5]"
      ]
     },
     "execution_count": 45,
     "metadata": {},
     "output_type": "execute_result"
    }
   ],
   "source": [
    "# 15. Convert a set to a list.\n",
    "s={1,2,3,4,5}\n",
    "list(s)"
   ]
  },
  {
   "cell_type": "code",
   "execution_count": 51,
   "id": "14c3fd22-025e-48b9-9236-134f71bcc6d7",
   "metadata": {},
   "outputs": [
    {
     "data": {
      "text/plain": [
       "{1, 2, 3, 5}"
      ]
     },
     "execution_count": 51,
     "metadata": {},
     "output_type": "execute_result"
    }
   ],
   "source": [
    "# 16. Remove a random element from a set.\n",
    "import random\n",
    "s={1,2,3,4,5}\n",
    "random = random.choice(list(s))\n",
    "s.remove(random)\n",
    "s"
   ]
  },
  {
   "cell_type": "code",
   "execution_count": 73,
   "id": "ef835045-1676-48ed-bed5-6d24ba093082",
   "metadata": {},
   "outputs": [
    {
     "data": {
      "text/plain": [
       "1"
      ]
     },
     "execution_count": 73,
     "metadata": {},
     "output_type": "execute_result"
    }
   ],
   "source": [
    "# 17. Pop an element from a set.\n",
    "s={1,2,3,4,5}\n",
    "s.pop()\n"
   ]
  },
  {
   "cell_type": "code",
   "execution_count": 58,
   "id": "09b819b0-5e39-40f3-8309-215a17b23f81",
   "metadata": {},
   "outputs": [
    {
     "name": "stdout",
     "output_type": "stream",
     "text": [
      "The two sets have no elements in common.\n"
     ]
    }
   ],
   "source": [
    "# 18. Check if two sets have no elements in common.\n",
    "set1 = {1, 2, 3, 4}\n",
    "set2 = {5, 6, 7, 8}\n",
    "\n",
    "# Step 2: Check if the intersection of the two sets is empty\n",
    "# The intersection is the set of elements that are common to both sets\n",
    "common_elements = set1.intersection(set2)\n",
    "\n",
    "# Step 3: Check if the common_elements set is empty\n",
    "if not common_elements:\n",
    "    print(\"The two sets have no elements in common.\")\n",
    "else:\n",
    "    print(\"The two sets have common elements:\", common_elements)"
   ]
  },
  {
   "cell_type": "code",
   "execution_count": 84,
   "id": "a6c82ae8-a374-412c-88a6-714d2681d6b8",
   "metadata": {},
   "outputs": [
    {
     "data": {
      "text/plain": [
       "{1, 3, 4, 5, 6, 9}"
      ]
     },
     "execution_count": 84,
     "metadata": {},
     "output_type": "execute_result"
    }
   ],
   "source": [
    "# 19. Find the symmetric difference between two sets.\n",
    "s1 = {1, 2, 3, 4}\n",
    "s2 = {5, 6, 2, 9}\n",
    "s1.symmetric_difference(s2)"
   ]
  },
  {
   "cell_type": "code",
   "execution_count": 93,
   "id": "26de2c3a-ca41-405d-be2a-9a640f99cb71",
   "metadata": {},
   "outputs": [
    {
     "name": "stdout",
     "output_type": "stream",
     "text": [
      "{1, 2, 3, 4, 5}\n"
     ]
    }
   ],
   "source": [
    "# 20. Update a set with elements from another set.\n",
    "s1 = {1, 2, 3}\n",
    "s2 = {3, 4, 5}\n",
    "s1.update(s2)\n",
    "print(s1)\n"
   ]
  },
  {
   "cell_type": "code",
   "execution_count": 94,
   "id": "8207eb4e-f8da-44e9-93af-90d18b8505a7",
   "metadata": {},
   "outputs": [
    {
     "name": "stdout",
     "output_type": "stream",
     "text": [
      "Set of the first 5 prime numbers: {2, 3, 5, 7, 11}\n"
     ]
    }
   ],
   "source": [
    "# 21. Create a set of the first 5 prime numbers.\n",
    "def is_prime(num):\n",
    "    if num <= 1:\n",
    "        return False\n",
    "    for i in range(2, int(num ** 0.5) + 1):\n",
    "        if num % i == 0:\n",
    "            return False\n",
    "    return True\n",
    "\n",
    "# Create an empty set to store the prime numbers\n",
    "prime_set = set()\n",
    "\n",
    "# Initialize the number to start checking for primes\n",
    "num = 2\n",
    "\n",
    "# Loop until we have found the first 5 prime numbers\n",
    "while len(prime_set) < 5:\n",
    "    # Check if the current number is prime using the is_prime function\n",
    "    if is_prime(num):\n",
    "        # If the number is prime, add it to the prime_set\n",
    "        prime_set.add(num)\n",
    "\n",
    "    # Move on to the next number for the next iteration\n",
    "    num += 1\n",
    "\n",
    "# Print the set of prime numbers\n",
    "print(\"Set of the first 5 prime numbers:\", prime_set)"
   ]
  },
  {
   "cell_type": "code",
   "execution_count": 95,
   "id": "343fe594-b13b-4039-9ae5-a37e159bbae0",
   "metadata": {},
   "outputs": [
    {
     "name": "stdout",
     "output_type": "stream",
     "text": [
      "The sets are not identical.\n"
     ]
    }
   ],
   "source": [
    "# 22. Check if two sets are identical.\n",
    "s1 = {1, 2, 3}\n",
    "s2 = {3, 4, 5}\n",
    "if s1 == s2:\n",
    "    print(\"The sets are identical.\")\n",
    "else:\n",
    "    print(\"The sets are not identical.\")"
   ]
  },
  {
   "cell_type": "code",
   "execution_count": 96,
   "id": "9a7fb783-2a71-4dcf-91ce-e0f6ae8dc602",
   "metadata": {},
   "outputs": [
    {
     "name": "stdout",
     "output_type": "stream",
     "text": [
      "frozenset({1, 2, 3, 4, 5})\n"
     ]
    }
   ],
   "source": [
    "# 23. Create a frozen set.\n",
    "s=[1,2,3,4,5]\n",
    "set=frozenset(s)\n",
    "print(set)"
   ]
  },
  {
   "cell_type": "code",
   "execution_count": 97,
   "id": "dd1e9147-30d6-4475-8697-ad91b1a3ebf6",
   "metadata": {},
   "outputs": [
    {
     "data": {
      "text/plain": [
       "False"
      ]
     },
     "execution_count": 97,
     "metadata": {},
     "output_type": "execute_result"
    }
   ],
   "source": [
    "# 24. Check if a set is disjoint with another set.\n",
    "s1 = {1, 2, 3}\n",
    "s2 = {3, 4, 5}\n",
    "s1.isdisjoint(s2)"
   ]
  },
  {
   "cell_type": "code",
   "execution_count": 3,
   "id": "b36f3708-7ec1-49e3-937c-21ee349d32ca",
   "metadata": {},
   "outputs": [
    {
     "data": {
      "text/plain": [
       "{1, 4, 9, 16, 25}"
      ]
     },
     "execution_count": 3,
     "metadata": {},
     "output_type": "execute_result"
    }
   ],
   "source": [
    "# 25. Create a set of squares of numbers from 1 to 5\n",
    "set1=set()\n",
    "for i in range(1,6):\n",
    "    set1.add(i*i)\n",
    "set1"
   ]
  },
  {
   "cell_type": "code",
   "execution_count": 4,
   "id": "c5a48844-4c04-4771-88ff-380ad9e61ae0",
   "metadata": {},
   "outputs": [
    {
     "data": {
      "text/plain": [
       "{2, 4, 6, 8, 10, 12}"
      ]
     },
     "execution_count": 4,
     "metadata": {},
     "output_type": "execute_result"
    }
   ],
   "source": [
    "# 26. Filter out all even numbers from a set.\n",
    "s={1,2,3,4,5,6,7,8,9,10,11,12}\n",
    "s4=set()\n",
    "for i in s:\n",
    "    if i%2==0:\n",
    "        s4.add(i)\n",
    "s4"
   ]
  },
  {
   "cell_type": "code",
   "execution_count": 6,
   "id": "3ddd751f-ba4d-4b48-8105-a8342d1ed5f8",
   "metadata": {},
   "outputs": [
    {
     "data": {
      "text/plain": [
       "{2, 4, 6, 8, 10, 12, 14, 16, 18, 20, 22, 24}"
      ]
     },
     "execution_count": 6,
     "metadata": {},
     "output_type": "execute_result"
    }
   ],
   "source": [
    "# 27. Multiply all elements in a set by 2.\n",
    "s={1,2,3,4,5,6,7,8,9,10,11,12}\n",
    "s1=set()\n",
    "for i in s:\n",
    "    s1.add(i*2)\n",
    "s1\n",
    "    \n"
   ]
  },
  {
   "cell_type": "code",
   "execution_count": 7,
   "id": "d9edb661-c2af-474c-9f5d-3cff2a79f204",
   "metadata": {},
   "outputs": [
    {
     "name": "stdout",
     "output_type": "stream",
     "text": [
      "Generated set of random numbers: {38, 40, 9, 42, 19}\n"
     ]
    }
   ],
   "source": [
    "# 28. Create a set of random numbers\n",
    "import random\n",
    "\n",
    "# Step 2: Define the number of random numbers you want in the set\n",
    "num_random_numbers = 5\n",
    "\n",
    "# Step 3: Initialize an empty set to store the random numbers\n",
    "random_number_set = set()\n",
    "\n",
    "# Step 4: Use a loop to generate random numbers and add them to the set\n",
    "for _ in range(num_random_numbers):\n",
    "    # Generate a random integer using the `randint` function from the `random` module\n",
    "    random_num = random.randint(1, 100)  # Generate a random number between 1 and 100\n",
    "    # Add the random number to the set\n",
    "    random_number_set.add(random_num)\n",
    "\n",
    "# Step 5: Print the generated set of random numbers\n",
    "print(\"Generated set of random numbers:\", random_number_set)"
   ]
  },
  {
   "cell_type": "code",
   "execution_count": 8,
   "id": "fd9a53c5-df42-45c1-85d7-baabc78299d5",
   "metadata": {},
   "outputs": [
    {
     "name": "stdout",
     "output_type": "stream",
     "text": [
      "The set is empty.\n"
     ]
    }
   ],
   "source": [
    "# 29. Check if a set is empty.\n",
    "my_set = set()\n",
    "\n",
    "# Step 2: Check if the set is empty using the 'if' statement\n",
    "if not my_set:\n",
    "    print(\"The set is empty.\")\n",
    "else:\n",
    "    print(\"The set is not empty.\")"
   ]
  },
  {
   "cell_type": "code",
   "execution_count": 9,
   "id": "a3635960-0934-4b72-9797-0f0aa598b766",
   "metadata": {},
   "outputs": [
    {
     "name": "stdout",
     "output_type": "stream",
     "text": [
      "Nested Set: {frozenset({1, 2, 3, 4, 5}), frozenset({6, 7, 8, 9, 10})}\n"
     ]
    }
   ],
   "source": [
    "# 30. Create a nested set (hint: use frozenset).\n",
    "set1 = {1, 2, 3, 4, 5}\n",
    "set2 = {6, 7, 8, 9, 10}\n",
    "\n",
    "# Step 2: Create frozensets from the inner sets\n",
    "frozen_set1 = frozenset(set1)\n",
    "frozen_set2 = frozenset(set2)\n",
    "\n",
    "# Step 3: Create the nested set using the frozensets\n",
    "nested_set = {frozen_set1, frozen_set2}\n",
    "\n",
    "# Print the nested set\n",
    "print(\"Nested Set:\", nested_set)"
   ]
  },
  {
   "cell_type": "code",
   "execution_count": 12,
   "id": "a927d5e7-63a6-43a3-9790-b3e49ddf3895",
   "metadata": {},
   "outputs": [
    {
     "data": {
      "text/plain": [
       "{2, 3, 4, 5}"
      ]
     },
     "execution_count": 12,
     "metadata": {},
     "output_type": "execute_result"
    }
   ],
   "source": [
    "# 31. Remove an element from a set using the discard method.\n",
    "s1 = {1, 2, 3, 4, 5}\n",
    "s1.discard(1)\n",
    "s1"
   ]
  },
  {
   "cell_type": "code",
   "execution_count": 15,
   "id": "304a590b-b929-49d9-a174-236950f16d79",
   "metadata": {},
   "outputs": [
    {
     "name": "stdout",
     "output_type": "stream",
     "text": [
      "Set 1: {1, 2, 3, 4, 5}\n",
      "Set 2: {4, 5, 6, 7, 8}\n",
      "Is set1 a subset of set2? False\n",
      "Is set2 a subset of set1? False\n",
      "Intersection: {4, 5}\n",
      "Union: {1, 2, 3, 4, 5, 6, 7, 8}\n",
      "Elements in set1 but not in set2: {1, 2, 3}\n",
      "Elements in set2 but not in set1: {8, 6, 7}\n"
     ]
    }
   ],
   "source": [
    "# 32. Compare two sets.\n",
    "\n",
    "set1 = {1, 2, 3, 4, 5}\n",
    "set2 = {4, 5, 6, 7, 8}\n",
    "\n",
    "# Step 2: Use set operations to compare the sets\n",
    "# Check if set1 is a subset of set2\n",
    "is_subset = set1.issubset(set2)\n",
    "\n",
    "# Check if set2 is a subset of set1\n",
    "is_superset = set1.issuperset(set2)\n",
    "\n",
    "# Find the intersection of the sets\n",
    "intersection = set1.intersection(set2)\n",
    "\n",
    "# Find the union of the sets\n",
    "union = set1.union(set2)\n",
    "\n",
    "# Find the elements that are in set1 but not in set2\n",
    "difference1 = set1.difference(set2)\n",
    "\n",
    "# Find the elements that are in set2 but not in set1\n",
    "difference2 = set2.difference(set1)\n",
    "\n",
    "# Step 3: Print the results\n",
    "print(\"Set 1:\", set1)\n",
    "print(\"Set 2:\", set2)\n",
    "print(\"Is set1 a subset of set2?\", is_subset)\n",
    "print(\"Is set2 a subset of set1?\", is_superset)\n",
    "print(\"Intersection:\", intersection)\n",
    "print(\"Union:\", union)\n",
    "print(\"Elements in set1 but not in set2:\", difference1)\n",
    "print(\"Elements in set2 but not in set1:\", difference2)"
   ]
  },
  {
   "cell_type": "code",
   "execution_count": 16,
   "id": "01af1c48-df1a-409d-8414-9e60ba630aa5",
   "metadata": {},
   "outputs": [
    {
     "name": "stdout",
     "output_type": "stream",
     "text": [
      "{'l', 'o', 'e', 'h'}\n"
     ]
    }
   ],
   "source": [
    "# 33. Create a set from a string.\n",
    "input_string = \"hello\"\n",
    "\n",
    "# Step 2: Use the set() constructor to create a set from the characters in the string\n",
    "char_set = set(input_string)\n",
    "\n",
    "# Step 3: Print the resulting set\n",
    "print(char_set)"
   ]
  },
  {
   "cell_type": "code",
   "execution_count": 17,
   "id": "052e2a5c-f4b4-48c4-91a5-31065756284c",
   "metadata": {},
   "outputs": [
    {
     "name": "stdout",
     "output_type": "stream",
     "text": [
      "Original String Set: {'789', '123', '456'}\n",
      "Converted Integer Set: {456, 123, 789}\n"
     ]
    }
   ],
   "source": [
    "# 34. Convert a set of strings to a set of integers.\n",
    "\n",
    "string_set = {\"123\", \"456\", \"789\"}\n",
    "\n",
    "# Step 2: Initialize an empty set to store integers\n",
    "integer_set = set()\n",
    "\n",
    "# Step 3: Iterate through each string in the string set\n",
    "for string in string_set:\n",
    "    # Step 4: Convert the string to an integer using the int() function\n",
    "    integer_value = int(string)\n",
    "\n",
    "    # Step 5: Add the integer to the integer set\n",
    "    integer_set.add(integer_value)\n",
    "\n",
    "# Step 6: Print the original string set and the converted integer set\n",
    "print(\"Original String Set:\", string_set)\n",
    "print(\"Converted Integer Set:\", integer_set)"
   ]
  },
  {
   "cell_type": "code",
   "execution_count": 18,
   "id": "de0d8dff-96ab-4c69-8667-3624403ecfd2",
   "metadata": {},
   "outputs": [
    {
     "name": "stdout",
     "output_type": "stream",
     "text": [
      "Original integers_set: {1, 2, 3, 4, 5}\n",
      "Converted strings_set: {'3', '1', '4', '5', '2'}\n"
     ]
    }
   ],
   "source": [
    "# 35. Convert a set of integers to a set of strings\n",
    "integers_set = {1, 2, 3, 4, 5}\n",
    "\n",
    "# Step 2: Initialize an empty set to store the strings\n",
    "strings_set = set()\n",
    "\n",
    "# Step 3: Iterate through each integer in the integers_set\n",
    "for num in integers_set:\n",
    "    # Step 4: Convert the integer to a string using the str() function\n",
    "    num_str = str(num)\n",
    "\n",
    "    # Step 5: Add the string representation to the strings_set\n",
    "    strings_set.add(num_str)\n",
    "\n",
    "# Step 6: Print the original integers_set and the converted strings_set\n",
    "print(\"Original integers_set:\", integers_set)\n",
    "print(\"Converted strings_set:\", strings_set)"
   ]
  },
  {
   "cell_type": "code",
   "execution_count": 19,
   "id": "cf280535-d24e-4f08-b5bb-34afaef6a0b3",
   "metadata": {},
   "outputs": [
    {
     "name": "stdout",
     "output_type": "stream",
     "text": [
      "{1, 2, 3, 4, 5}\n"
     ]
    }
   ],
   "source": [
    "# 36. Create a set from a tuple.\n",
    "input_tuple = (1, 2, 3, 2, 4, 5, 1)\n",
    "output_set = set(input_tuple)\n",
    "print(output_set)"
   ]
  },
  {
   "cell_type": "code",
   "execution_count": 20,
   "id": "2e5f351c-f699-459b-add9-2219fc05ac8a",
   "metadata": {},
   "outputs": [
    {
     "name": "stdout",
     "output_type": "stream",
     "text": [
      "Original set: {1, 2, 3, 4, 5}\n",
      "Converted tuple: (1, 2, 3, 4, 5)\n"
     ]
    }
   ],
   "source": [
    "# 37. Convert a set to a tuple.\n",
    "input_set = {1, 2, 3, 4, 5}\n",
    "\n",
    "# Step 2: Convert the set to a tuple\n",
    "output_tuple = tuple(input_set)\n",
    "\n",
    "# Step 3: Print the original set and the converted tuple\n",
    "print(\"Original set:\", input_set)\n",
    "print(\"Converted tuple:\", output_tuple)"
   ]
  },
  {
   "cell_type": "code",
   "execution_count": 21,
   "id": "70321bef-c19b-4724-9d1f-9fa74bfe0139",
   "metadata": {},
   "outputs": [
    {
     "name": "stdout",
     "output_type": "stream",
     "text": [
      "Maximum value: 22\n"
     ]
    }
   ],
   "source": [
    "# 38. Find the maximum value in a set.\n",
    "my_set = {15, 7, 22, 13, 8}\n",
    "\n",
    "# Initialize a variable to store the maximum value\n",
    "max_value = None\n",
    "\n",
    "# Iterate through each element in the set\n",
    "for num in my_set:\n",
    "    # Check if max_value is None (first iteration) or if the current number is greater than max_value\n",
    "    if max_value is None or num > max_value:\n",
    "        max_value = num  # Update max_value with the current number if it's greater\n",
    "\n",
    "# Print the maximum value\n",
    "print(\"Maximum value:\", max_value)"
   ]
  },
  {
   "cell_type": "code",
   "execution_count": 23,
   "id": "ef93c3e4-b396-49ff-8142-e61f1febcab9",
   "metadata": {},
   "outputs": [
    {
     "name": "stdout",
     "output_type": "stream",
     "text": [
      "The minimum value in the set is: 4\n"
     ]
    }
   ],
   "source": [
    " #39. Find the minimum value in a set.\n",
    "number_set = {15, 8, 23, 4, 42, 11}\n",
    "\n",
    "# Initialize a variable to store the minimum value\n",
    "min_value = None\n",
    "\n",
    "# Iterate through each element in the set\n",
    "for num in number_set:\n",
    "    # Check if min_value is None (first iteration) or if num is smaller than the current min_value\n",
    "    if min_value is None or num < min_value:\n",
    "        # Update min_value to the current num since it's smaller\n",
    "        min_value = num\n",
    "\n",
    "# Print the minimum value found in the set\n",
    "print(\"The minimum value in the set is:\", min_value)"
   ]
  },
  {
   "cell_type": "code",
   "execution_count": 24,
   "id": "6de5ad91-f43b-4c46-b645-55c6c6e49400",
   "metadata": {},
   "outputs": [
    {
     "name": "stdout",
     "output_type": "stream",
     "text": [
      "Enter elements for the set (type 'done' to finish):\n"
     ]
    },
    {
     "name": "stdin",
     "output_type": "stream",
     "text": [
      ">  2\n",
      ">  2\n",
      ">  24\n",
      ">  4\n",
      ">  5\n",
      ">  8\n",
      ">  done\n"
     ]
    },
    {
     "name": "stdout",
     "output_type": "stream",
     "text": [
      "Final set: {'24', '8', '4', '5', '2'}\n"
     ]
    }
   ],
   "source": [
    "# 40. Create a set from user input.\n",
    "user_set = set()\n",
    "\n",
    "# Step 2: Get input from the user\n",
    "print(\"Enter elements for the set (type 'done' to finish):\")\n",
    "while True:\n",
    "    user_input = input(\"> \")  # Get input from the user\n",
    "\n",
    "    if user_input.lower() == 'done':\n",
    "        break  # Exit the loop if the user enters 'done'\n",
    "\n",
    "    # Step 3: Add the user input to the set\n",
    "    user_set.add(user_input)\n",
    "\n",
    "# Step 4: Display the final set created from user input\n",
    "print(\"Final set:\", user_set)"
   ]
  },
  {
   "cell_type": "code",
   "execution_count": 25,
   "id": "39c92800-a791-421c-818e-2dc400215793",
   "metadata": {},
   "outputs": [
    {
     "name": "stdout",
     "output_type": "stream",
     "text": [
      "The intersection of the two sets is not empty.\n"
     ]
    }
   ],
   "source": [
    "# 41. Check if the intersection of two sets is empty. \n",
    "set1 = {1, 2, 3, 4, 5}\n",
    "set2 = {4, 5, 6, 7, 8}\n",
    "\n",
    "# Step 2: Find the intersection of the two sets using the `intersection()` method\n",
    "intersection_result = set1.intersection(set2)\n",
    "\n",
    "# Step 3: Check if the intersection result is empty\n",
    "if not intersection_result:\n",
    "    print(\"The intersection of the two sets is empty.\")\n",
    "else:\n",
    "    print(\"The intersection of the two sets is not empty.\")"
   ]
  },
  {
   "cell_type": "code",
   "execution_count": 26,
   "id": "5777e32c-03c1-4181-b111-a1f85b1710c1",
   "metadata": {},
   "outputs": [
    {
     "name": "stdout",
     "output_type": "stream",
     "text": [
      "Set of the first 5 Fibonacci numbers: {0, 1, 2, 3, 5}\n"
     ]
    }
   ],
   "source": [
    "# 42. Create a set of the first 5 Fibonacci numbers\n",
    "fibonacci_set = set()\n",
    "\n",
    "# Initialize the first two Fibonacci numbers\n",
    "a, b = 0, 1\n",
    "\n",
    "# Loop to generate the first 5 Fibonacci numbers\n",
    "for _ in range(6):\n",
    "    # Add the current Fibonacci number to the set\n",
    "    fibonacci_set.add(a)\n",
    "\n",
    "    # Calculate the next Fibonacci number\n",
    "    a, b = b, a + b\n",
    "\n",
    "# Print the set of Fibonacci numbers\n",
    "print(\"Set of the first 5 Fibonacci numbers:\", fibonacci_set)\n"
   ]
  },
  {
   "cell_type": "code",
   "execution_count": 27,
   "id": "280f9795-2c5c-4684-a6b0-b8e574a91b69",
   "metadata": {},
   "outputs": [
    {
     "name": "stdout",
     "output_type": "stream",
     "text": [
      "Original List: [2, 4, 6, 8, 4, 10, 6, 12, 14, 8]\n",
      "List with Duplicates Removed: [2, 4, 6, 8, 10, 12, 14]\n"
     ]
    }
   ],
   "source": [
    "# 43. Remove duplicates from a list using sets\n",
    "original_list = [2, 4, 6, 8, 4, 10, 6, 12, 14, 8]\n",
    "\n",
    "# Step 2: Convert the list to a set\n",
    "unique_set = set(original_list)\n",
    "# Now, 'unique_set' contains only unique elements from 'original_list'\n",
    "\n",
    "# Step 3: Convert the set back to a list\n",
    "unique_list = list(unique_set)\n",
    "# Now, 'unique_list' is a list containing only unique elements\n",
    "\n",
    "# Step 4: Print the original list and the list with duplicates removed\n",
    "print(\"Original List:\", original_list)\n",
    "print(\"List with Duplicates Removed:\", unique_list)\n"
   ]
  },
  {
   "cell_type": "code",
   "execution_count": 28,
   "id": "792e7590-4d76-4590-a59d-c55e35b09961",
   "metadata": {},
   "outputs": [
    {
     "name": "stdout",
     "output_type": "stream",
     "text": [
      "The sets have the same elements.\n"
     ]
    }
   ],
   "source": [
    "# 44. Check if two sets have the same elements, regardless of their count.\n",
    "def have_same_elements(set1, set2):\n",
    "    # Convert the sets to lists and sort them\n",
    "    sorted_list1 = sorted(list(set1))\n",
    "    sorted_list2 = sorted(list(set2))\n",
    "\n",
    "    # Compare the sorted lists to check if they are equal\n",
    "    return sorted_list1 == sorted_list2\n",
    "\n",
    "# Example sets\n",
    "set1 = {1, 2, 3, 2, 1}\n",
    "set2 = {3, 1, 2}\n",
    "\n",
    "# Check if the sets have the same elements\n",
    "result = have_same_elements(set1, set2)\n",
    "\n",
    "# Print the result\n",
    "if result:\n",
    "    print(\"The sets have the same elements.\")\n",
    "else:\n",
    "    print(\"The sets do not have the same elements.\")"
   ]
  },
  {
   "cell_type": "code",
   "execution_count": 29,
   "id": "bd7435a2-b5d3-4171-ada6-9e1205c174a0",
   "metadata": {},
   "outputs": [
    {
     "name": "stdout",
     "output_type": "stream",
     "text": [
      "{1, 2, 4, 8, 16}\n"
     ]
    }
   ],
   "source": [
    "# 45. Create a set of the first `n` powers of 2.\n",
    "def generate_powers_of_2(n):\n",
    "    # Initialize an empty set to store the powers of 2\n",
    "    powers_of_2 = set()\n",
    "\n",
    "    # Loop from 0 to n-1\n",
    "    for i in range(n):\n",
    "        # Calculate the current power of 2 using the exponentiation operator **\n",
    "        power = 2 ** i\n",
    "\n",
    "        # Add the current power of 2 to the set\n",
    "        powers_of_2.add(power)\n",
    "\n",
    "    # Return the set of powers of 2\n",
    "    return powers_of_2\n",
    "\n",
    "# Define the value of n\n",
    "n = 5\n",
    "\n",
    "# Call the function to generate the set of powers of 2\n",
    "powers_set = generate_powers_of_2(n)\n",
    "\n",
    "# Print the resulting set\n",
    "print(powers_set)"
   ]
  },
  {
   "cell_type": "code",
   "execution_count": 30,
   "id": "e817da92-a5a0-455b-bbfb-172e9246323b",
   "metadata": {},
   "outputs": [
    {
     "name": "stdout",
     "output_type": "stream",
     "text": [
      "Common elements: [7, 9, 12]\n"
     ]
    }
   ],
   "source": [
    "# 46. Find the common elements between a set and a list.\n",
    "my_set = {3, 7, 9, 12, 15}\n",
    "my_list = [7, 12, 5, 9]\n",
    "\n",
    "# Step 2: Convert the list to a set for efficient comparison\n",
    "list_to_set = set(my_list)\n",
    "\n",
    "# Step 3: Initialize an empty list to store common elements\n",
    "common_elements = []\n",
    "\n",
    "# Step 4: Iterate through the elements in the set\n",
    "for element in my_set:\n",
    "    # Step 5: Check if the element is present in the converted set (list_to_set)\n",
    "    if element in list_to_set:\n",
    "        # Step 6: If the element is present in both the set and the list, add it to the common_elements list\n",
    "        common_elements.append(element)\n",
    "\n",
    "# Step 7: Print the common elements\n",
    "print(\"Common elements:\", common_elements)"
   ]
  },
  {
   "cell_type": "code",
   "execution_count": 31,
   "id": "2db31f2f-e0ac-4555-94e1-ca22e0e6bd53",
   "metadata": {},
   "outputs": [
    {
     "name": "stdin",
     "output_type": "stream",
     "text": [
      "Enter the value of n:  5\n"
     ]
    },
    {
     "name": "stdout",
     "output_type": "stream",
     "text": [
      "The set of the first 5 triangular numbers is: {1, 3, 6, 10, 15}\n"
     ]
    }
   ],
   "source": [
    "# 47. Create a set of the first `n` triangular numbers.\n",
    "def generate_triangular_numbers(n):\n",
    "    triangular_numbers = set()  # Create an empty set to store the triangular numbers\n",
    "    for i in range(1, n + 1):\n",
    "        triangular_number = i * (i + 1) // 2  # Calculate the ith triangular number using the formula\n",
    "        triangular_numbers.add(triangular_number)  # Add the calculated triangular number to the set\n",
    "    return triangular_numbers\n",
    "\n",
    "# Input the value of 'n'\n",
    "n = int(input(\"Enter the value of n: \"))\n",
    "\n",
    "# Call the function to generate the set of first 'n' triangular numbers\n",
    "triangular_set = generate_triangular_numbers(n)\n",
    "\n",
    "# Display the set of triangular numbers\n",
    "print(f\"The set of the first {n} triangular numbers is:\", triangular_set)"
   ]
  },
  {
   "cell_type": "code",
   "execution_count": 32,
   "id": "209fbf25-30e8-49bd-8151-0965cecb47e4",
   "metadata": {},
   "outputs": [
    {
     "name": "stdout",
     "output_type": "stream",
     "text": [
      "set2 is a subset of set1\n"
     ]
    }
   ],
   "source": [
    "# 48. Check if a set contains another set as a subset.\n",
    "set1 = {1, 2, 3, 4, 5}\n",
    "set2 = {3, 4}\n",
    "\n",
    "# Check if set2 is a subset of set1\n",
    "is_subset = set2.issubset(set1)\n",
    "\n",
    "# Print the result\n",
    "if is_subset:\n",
    "    print(\"set2 is a subset of set1\")\n",
    "else:\n",
    "    print(\"set2 is not a subset of set1\")"
   ]
  },
  {
   "cell_type": "code",
   "execution_count": 33,
   "id": "92a286ad-9e7c-471e-9a70-edb70e87e541",
   "metadata": {},
   "outputs": [
    {
     "name": "stdout",
     "output_type": "stream",
     "text": [
      "{0, 1}\n"
     ]
    }
   ],
   "source": [
    "# 49. Create a set of alternating 1s and 0s of length `n`.\n",
    "def create_alternating_set(n):\n",
    "    # Initialize an empty set to store the alternating sequence.\n",
    "    alternating_set = set()\n",
    "\n",
    "    # Loop to generate alternating 1s and 0s.\n",
    "    for i in range(n):\n",
    "        # Alternate between adding 1 and 0 to the set based on whether i is even or odd.\n",
    "        if i % 2 == 0:\n",
    "            alternating_set.add(1)  # Add 1 if i is even.\n",
    "        else:\n",
    "            alternating_set.add(0)  # Add 0 if i is odd.\n",
    "\n",
    "    return alternating_set\n",
    "\n",
    "# Define the desired length of the alternating set.\n",
    "length_n = 10\n",
    "\n",
    "# Call the function to create the alternating set of length 'length_n'.\n",
    "result = create_alternating_set(length_n)\n",
    "\n",
    "# Print the resulting set.\n",
    "print(result)"
   ]
  },
  {
   "cell_type": "code",
   "execution_count": 35,
   "id": "a58e3138-4875-46fe-8270-1331c583b150",
   "metadata": {},
   "outputs": [
    {
     "name": "stdout",
     "output_type": "stream",
     "text": [
      "Merged Set: {1, 2, 3, 4, 5, 6, 7}\n"
     ]
    }
   ],
   "source": [
    "# 50. Merge multiple sets into one.\n",
    "set1 = {1, 2, 3}\n",
    "set2 = {3, 4, 5}\n",
    "set3 = {5, 6, 7}\n",
    "\n",
    "# Step 2: Use the union() method to merge sets\n",
    "merged_set = set1.union(set2, set3)\n",
    "\n",
    "print(\"Merged Set:\", merged_set)"
   ]
  },
  {
   "cell_type": "code",
   "execution_count": null,
   "id": "36643350-18b0-430f-87ba-9294b9472337",
   "metadata": {},
   "outputs": [],
   "source": []
  }
 ],
 "metadata": {
  "kernelspec": {
   "display_name": "Python 3 (ipykernel)",
   "language": "python",
   "name": "python3"
  },
  "language_info": {
   "codemirror_mode": {
    "name": "ipython",
    "version": 3
   },
   "file_extension": ".py",
   "mimetype": "text/x-python",
   "name": "python",
   "nbconvert_exporter": "python",
   "pygments_lexer": "ipython3",
   "version": "3.10.8"
  }
 },
 "nbformat": 4,
 "nbformat_minor": 5
}
